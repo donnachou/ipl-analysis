{
  "nbformat": 4,
  "nbformat_minor": 0,
  "metadata": {
    "colab": {
      "provenance": [],
      "authorship_tag": "ABX9TyMunkyht+O9fpfGm3J8YTd7",
      "include_colab_link": true
    },
    "kernelspec": {
      "name": "python3",
      "display_name": "Python 3"
    },
    "language_info": {
      "name": "python"
    }
  },
  "cells": [
    {
      "cell_type": "markdown",
      "metadata": {
        "id": "view-in-github",
        "colab_type": "text"
      },
      "source": [
        "<a href=\"https://colab.research.google.com/github/donnachou/ipl-analysis/blob/main/IPL_Aanlysis.ipynb\" target=\"_parent\"><img src=\"https://colab.research.google.com/assets/colab-badge.svg\" alt=\"Open In Colab\"/></a>"
      ]
    },
    {
      "cell_type": "code",
      "source": [
        "import pandas as pd\n",
        "\n",
        "# Replace 'file1.csv' and 'file2.csv' with your actual file names\n",
        "file1 = \"/2024_players_details.csv\"\n",
        "file2 = \"/Ball_By_Ball_Match_Data.csv\"\n",
        "file3 = \"/Match_Info.csv\"\n",
        "file4 = \"/teams_info.csv\"\n",
        "\n",
        "# Read the CSV files into pandas DataFrames\n",
        "df1 = pd.read_csv(file1)\n",
        "df2 = pd.read_csv(file2)\n",
        "df3 = pd.read_csv(file3)\n",
        "df4 = pd.read_csv(file4)\n",
        "\n",
        "# Display the first few rows of each DataFrame\n",
        "print(\"Dataset 1:\")\n",
        "print(df1.head())\n",
        "\n",
        "print(\"\\nDataset 2:\")\n",
        "print(df2.head())\n",
        "\n",
        "print(\"\\nDataset 3:\")\n",
        "print(df3.head())\n",
        "\n",
        "print(\"\\nDataset 4:\")\n",
        "print(df4.head())\n"
      ],
      "metadata": {
        "colab": {
          "base_uri": "https://localhost:8080/"
        },
        "id": "egyte0v8WsT4",
        "outputId": "b0b334ed-b4b2-443e-c75b-24d9361fbe85"
      },
      "execution_count": 1,
      "outputs": [
        {
          "output_type": "stream",
          "name": "stdout",
          "text": [
            "Dataset 1:\n",
            "       ID              Name          longName       battingName  \\\n",
            "0   95094        RD Gaikwad   Ruturaj Gaikwad        RD Gaikwad   \n",
            "1   46597            MM Ali         Moeen Ali            MM Ali   \n",
            "2  116328  Aravelly Avanish  Aravelly Avanish  Aravelly Avanish   \n",
            "3   62022         DL Chahar     Deepak Chahar         DL Chahar   \n",
            "4   80607      TU Deshpande  Tushar Deshpande      TU Deshpande   \n",
            "\n",
            "       fieldingName                                             imgUrl  \\\n",
            "0           Gaikwad  https://img1.hscicdn.com/image/upload/f_auto,t...   \n",
            "1               Ali  https://img1.hscicdn.com/image/upload/f_auto,t...   \n",
            "2  Aravelly Avanish  https://img1.hscicdn.com/image/upload/f_auto,t...   \n",
            "3            Chahar  https://img1.hscicdn.com/image/upload/f_auto,t...   \n",
            "4         Deshpande  https://img1.hscicdn.com/image/upload/f_auto,t...   \n",
            "\n",
            "         dob battingStyles longBattingStyles bowlingStyles  \\\n",
            "0  31/1/1997           rhb    right-hand bat            ob   \n",
            "1  18/6/1987           lhb     left-hand bat            ob   \n",
            "2   2/6/2005           lhb     left-hand bat            Na   \n",
            "3   7/8/1992           rhb    right-hand bat            rm   \n",
            "4  15/5/1995           lhb     left-hand bat            rm   \n",
            "\n",
            "    longBowlingStyles playingRoles  \\\n",
            "0  right-arm offbreak           ob   \n",
            "1  right-arm offbreak           ob   \n",
            "2                  Na          NaN   \n",
            "3    right-arm medium           rm   \n",
            "4    right-arm medium           rm   \n",
            "\n",
            "                                            espn_url  \n",
            "0  https://www.espncricinfo.com/cricketers/rutura...  \n",
            "1  https://www.espncricinfo.com/cricketers/moeen-...  \n",
            "2  https://www.espncricinfo.com/cricketers/aravel...  \n",
            "3  https://www.espncricinfo.com/cricketers/deepak...  \n",
            "4  https://www.espncricinfo.com/cricketers/tushar...  \n",
            "\n",
            "Dataset 2:\n",
            "        ID  Innings  Overs  BallNumber      Batter   Bowler  NonStriker  \\\n",
            "0  1304063        1      0           1  RV Uthappa  B Kumar  RD Gaikwad   \n",
            "1  1304063        1      0           2  RV Uthappa  B Kumar  RD Gaikwad   \n",
            "2  1304063        1      0           3  RV Uthappa  B Kumar  RD Gaikwad   \n",
            "3  1304063        1      0           4  RV Uthappa  B Kumar  RD Gaikwad   \n",
            "4  1304063        1      0           5  RV Uthappa  B Kumar  RD Gaikwad   \n",
            "\n",
            "  ExtraType  BatsmanRun  ExtrasRun  TotalRun  IsWicketDelivery PlayerOut Kind  \\\n",
            "0       NaN           0          0         0                 0       NaN  NaN   \n",
            "1       NaN           4          0         4                 0       NaN  NaN   \n",
            "2       NaN           2          0         2                 0       NaN  NaN   \n",
            "3       NaN           2          0         2                 0       NaN  NaN   \n",
            "4       NaN           0          0         0                 0       NaN  NaN   \n",
            "\n",
            "  FieldersInvolved          BattingTeam  \n",
            "0              NaN  Chennai Super Kings  \n",
            "1              NaN  Chennai Super Kings  \n",
            "2              NaN  Chennai Super Kings  \n",
            "3              NaN  Chennai Super Kings  \n",
            "4              NaN  Chennai Super Kings  \n",
            "\n",
            "Dataset 3:\n",
            "   match_number                  team1                team2  match_date  \\\n",
            "0       1304063    Chennai Super Kings  Sunrisers Hyderabad  2022-04-09   \n",
            "1        598000    Sunrisers Hyderabad        Pune Warriors  2013-04-05   \n",
            "2        829801       Delhi Daredevils  Chennai Super Kings  2015-05-12   \n",
            "3        392195        Kings XI Punjab     Rajasthan Royals  2009-04-26   \n",
            "4        734023  Kolkata Knight Riders  Chennai Super Kings  2014-05-20   \n",
            "\n",
            "             toss_winner toss_decision result eliminator  \\\n",
            "0    Sunrisers Hyderabad         field    Win        NaN   \n",
            "1          Pune Warriors         field    Win        NaN   \n",
            "2    Chennai Super Kings           bat    Win        NaN   \n",
            "3        Kings XI Punjab           bat    Win        NaN   \n",
            "4  Kolkata Knight Riders         field    Win        NaN   \n",
            "\n",
            "                  winner  player_of_match  \\\n",
            "0    Sunrisers Hyderabad  Abhishek Sharma   \n",
            "1    Sunrisers Hyderabad         A Mishra   \n",
            "2       Delhi Daredevils           Z Khan   \n",
            "3        Kings XI Punjab    KC Sangakkara   \n",
            "4  Kolkata Knight Riders       RV Uthappa   \n",
            "\n",
            "                                              venue       city  \\\n",
            "0                Dr DY Patil Sports Academy, Mumbai     Mumbai   \n",
            "1         Rajiv Gandhi International Stadium, Uppal  Hyderabad   \n",
            "2  Shaheed Veer Narayan Singh International Stadium     Raipur   \n",
            "3                                          Newlands  Cape Town   \n",
            "4                                      Eden Gardens    Kolkata   \n",
            "\n",
            "                                       team1_players  \\\n",
            "0  RV Uthappa, RD Gaikwad, MM Ali, AT Rayudu, S D...   \n",
            "1  PA Reddy, PA Patel, KC Sangakkara, CL White, N...   \n",
            "2  Q de Kock, SS Iyer, JP Duminy, Yuvraj Singh, J...   \n",
            "3  RS Bopara, K Goel, KC Sangakkara, Yuvraj Singh...   \n",
            "4  RV Uthappa, G Gambhir, MK Pandey, Shakib Al Ha...   \n",
            "\n",
            "                                       team2_players  \n",
            "0  Abhishek Sharma, KS Williamson, RA Tripathi, N...  \n",
            "1  RV Uthappa, MK Pandey, MN Samuels, Yuvraj Sing...  \n",
            "2  DR Smith, BB McCullum, SK Raina, F du Plessis,...  \n",
            "3  SA Asnodkar, GC Smith, RJ Quiney, YK Pathan, A...  \n",
            "4  DR Smith, BB McCullum, SK Raina, F du Plessis,...  \n",
            "\n",
            "Dataset 4:\n",
            "                    team_name  \\\n",
            "0              Mumbai Indians   \n",
            "1         Chennai Super Kings   \n",
            "2              Delhi Capitals   \n",
            "3  Kolkata Knight Respn_iders   \n",
            "4                Punjab Kings   \n",
            "\n",
            "                                                 url  espn_id  \n",
            "0  https://assets.iplt20.com/ipl/MI/Logos/Logoout...     4346  \n",
            "1  https://assets.iplt20.com/ipl/CSK/logos/Logoou...     4343  \n",
            "2  https://assets.iplt20.com/ipl/DC/Logos/LogoOut...     4347  \n",
            "3  https://assets.iplt20.com/ipl/KKR/Logos/Logoou...     4341  \n",
            "4  https://assets.iplt20.com/ipl/PBKS/Logos/Logoo...     4342  \n"
          ]
        }
      ]
    },
    {
      "cell_type": "code",
      "source": [
        "import pandas as pd\n",
        "print(df1.info())\n",
        "print(df1.head)"
      ],
      "metadata": {
        "colab": {
          "base_uri": "https://localhost:8080/"
        },
        "id": "ZEzginuXXhJL",
        "outputId": "26e4674f-5d4b-440c-b18b-2657af9ec503"
      },
      "execution_count": 2,
      "outputs": [
        {
          "output_type": "stream",
          "name": "stdout",
          "text": [
            "<class 'pandas.core.frame.DataFrame'>\n",
            "RangeIndex: 261 entries, 0 to 260\n",
            "Data columns (total 13 columns):\n",
            " #   Column             Non-Null Count  Dtype \n",
            "---  ------             --------------  ----- \n",
            " 0   ID                 261 non-null    int64 \n",
            " 1   Name               261 non-null    object\n",
            " 2   longName           261 non-null    object\n",
            " 3   battingName        261 non-null    object\n",
            " 4   fieldingName       261 non-null    object\n",
            " 5   imgUrl             261 non-null    object\n",
            " 6   dob                261 non-null    object\n",
            " 7   battingStyles      261 non-null    object\n",
            " 8   longBattingStyles  261 non-null    object\n",
            " 9   bowlingStyles      261 non-null    object\n",
            " 10  longBowlingStyles  261 non-null    object\n",
            " 11  playingRoles       237 non-null    object\n",
            " 12  espn_url           261 non-null    object\n",
            "dtypes: int64(1), object(12)\n",
            "memory usage: 26.6+ KB\n",
            "None\n",
            "<bound method NDFrame.head of          ID               Name                longName        battingName  \\\n",
            "0     95094         RD Gaikwad         Ruturaj Gaikwad         RD Gaikwad   \n",
            "1     46597             MM Ali               Moeen Ali             MM Ali   \n",
            "2    116328   Aravelly Avanish        Aravelly Avanish   Aravelly Avanish   \n",
            "3     62022          DL Chahar           Deepak Chahar          DL Chahar   \n",
            "4     80607       TU Deshpande        Tushar Deshpande       TU Deshpande   \n",
            "..      ...                ...                     ...                ...   \n",
            "256   59261         JD Unadkat          Jaydev Unadkat         JD Unadkat   \n",
            "257  102870       V Viyaskanth  Vijayakanth Viyaskanth       V Viyaskanth   \n",
            "258   75311  Washington Sundar       Washington Sundar  Washington Sundar   \n",
            "259   75985           UD Yadav           Upendra Yadav           UD Yadav   \n",
            "260   78239       PW Hasaranga       Wanindu Hasaranga       PW Hasaranga   \n",
            "\n",
            "          fieldingName                                             imgUrl  \\\n",
            "0              Gaikwad  https://img1.hscicdn.com/image/upload/f_auto,t...   \n",
            "1                  Ali  https://img1.hscicdn.com/image/upload/f_auto,t...   \n",
            "2     Aravelly Avanish  https://img1.hscicdn.com/image/upload/f_auto,t...   \n",
            "3               Chahar  https://img1.hscicdn.com/image/upload/f_auto,t...   \n",
            "4            Deshpande  https://img1.hscicdn.com/image/upload/f_auto,t...   \n",
            "..                 ...                                                ...   \n",
            "256            Unadkat  https://img1.hscicdn.com/image/upload/f_auto,t...   \n",
            "257         Viyaskanth  https://img1.hscicdn.com/image/upload/f_auto,t...   \n",
            "258  Washington Sundar  https://img1.hscicdn.com/image/upload/f_auto,t...   \n",
            "259              Yadav  https://img1.hscicdn.com/image/upload/f_auto,t...   \n",
            "260          Hasaranga  https://img1.hscicdn.com/image/upload/f_auto,t...   \n",
            "\n",
            "            dob battingStyles longBattingStyles bowlingStyles  \\\n",
            "0     31/1/1997           rhb    right-hand bat            ob   \n",
            "1     18/6/1987           lhb     left-hand bat            ob   \n",
            "2      2/6/2005           lhb     left-hand bat            Na   \n",
            "3      7/8/1992           rhb    right-hand bat            rm   \n",
            "4     15/5/1995           lhb     left-hand bat            rm   \n",
            "..          ...           ...               ...           ...   \n",
            "256  18/10/1991           rhb    right-hand bat            lm   \n",
            "257   5/12/2001           rhb    right-hand bat            lb   \n",
            "258   5/10/1999           lhb     left-hand bat            ob   \n",
            "259   8/10/1996           rhb    right-hand bat            ob   \n",
            "260   29/7/1997           rhb    right-hand bat            lb   \n",
            "\n",
            "      longBowlingStyles playingRoles  \\\n",
            "0    right-arm offbreak           ob   \n",
            "1    right-arm offbreak           ob   \n",
            "2                    Na          NaN   \n",
            "3      right-arm medium           rm   \n",
            "4      right-arm medium           rm   \n",
            "..                  ...          ...   \n",
            "256     left-arm medium           lm   \n",
            "257            legbreak           lb   \n",
            "258  right-arm offbreak           ob   \n",
            "259  right-arm offbreak           ob   \n",
            "260            legbreak           lb   \n",
            "\n",
            "                                              espn_url  \n",
            "0    https://www.espncricinfo.com/cricketers/rutura...  \n",
            "1    https://www.espncricinfo.com/cricketers/moeen-...  \n",
            "2    https://www.espncricinfo.com/cricketers/aravel...  \n",
            "3    https://www.espncricinfo.com/cricketers/deepak...  \n",
            "4    https://www.espncricinfo.com/cricketers/tushar...  \n",
            "..                                                 ...  \n",
            "256  https://www.espncricinfo.com/cricketers/jaydev...  \n",
            "257  https://www.espncricinfo.com/cricketers/vijaya...  \n",
            "258  https://www.espncricinfo.com/cricketers/washin...  \n",
            "259  https://www.espncricinfo.com/cricketers/upendr...  \n",
            "260  https://www.espncricinfo.com/cricketers/wanind...  \n",
            "\n",
            "[261 rows x 13 columns]>\n"
          ]
        }
      ]
    },
    {
      "cell_type": "code",
      "source": [
        "# Check the actual column names in your DataFrame\n",
        "print(df1.columns)\n",
        "\n",
        "# Drop only the columns that are present in the DataFrame\n",
        "# Adjust this based on the output of the print statement above\n",
        "columns_to_drop = [col for col in ['Name', 'longName', 'battingStyles', 'bowlingStyles', 'playingRoles', 'espn_url'] if col in df1.columns]\n",
        "df1 = df1.drop(columns=columns_to_drop)\n",
        "\n",
        "print(df1.head())"
      ],
      "metadata": {
        "colab": {
          "base_uri": "https://localhost:8080/"
        },
        "id": "Ou6q5x4dahc_",
        "outputId": "3d7120d1-d3d2-42fe-f3d0-f21e3a3c39d2"
      },
      "execution_count": 3,
      "outputs": [
        {
          "output_type": "stream",
          "name": "stdout",
          "text": [
            "Index(['ID', 'Name', 'longName', 'battingName', 'fieldingName', 'imgUrl',\n",
            "       'dob', 'battingStyles', 'longBattingStyles', 'bowlingStyles',\n",
            "       'longBowlingStyles', 'playingRoles', 'espn_url'],\n",
            "      dtype='object')\n",
            "       ID       battingName      fieldingName  \\\n",
            "0   95094        RD Gaikwad           Gaikwad   \n",
            "1   46597            MM Ali               Ali   \n",
            "2  116328  Aravelly Avanish  Aravelly Avanish   \n",
            "3   62022         DL Chahar            Chahar   \n",
            "4   80607      TU Deshpande         Deshpande   \n",
            "\n",
            "                                              imgUrl        dob  \\\n",
            "0  https://img1.hscicdn.com/image/upload/f_auto,t...  31/1/1997   \n",
            "1  https://img1.hscicdn.com/image/upload/f_auto,t...  18/6/1987   \n",
            "2  https://img1.hscicdn.com/image/upload/f_auto,t...   2/6/2005   \n",
            "3  https://img1.hscicdn.com/image/upload/f_auto,t...   7/8/1992   \n",
            "4  https://img1.hscicdn.com/image/upload/f_auto,t...  15/5/1995   \n",
            "\n",
            "  longBattingStyles   longBowlingStyles  \n",
            "0    right-hand bat  right-arm offbreak  \n",
            "1     left-hand bat  right-arm offbreak  \n",
            "2     left-hand bat                  Na  \n",
            "3    right-hand bat    right-arm medium  \n",
            "4     left-hand bat    right-arm medium  \n"
          ]
        }
      ]
    },
    {
      "cell_type": "code",
      "source": [
        "from IPython.display import display\n",
        "display(df1.head())"
      ],
      "metadata": {
        "colab": {
          "base_uri": "https://localhost:8080/",
          "height": 261
        },
        "id": "FdOAAp5Ta--w",
        "outputId": "01db62cd-8cd7-400a-9db4-13a090b741aa"
      },
      "execution_count": 4,
      "outputs": [
        {
          "output_type": "display_data",
          "data": {
            "text/plain": [
              "       ID       battingName      fieldingName  \\\n",
              "0   95094        RD Gaikwad           Gaikwad   \n",
              "1   46597            MM Ali               Ali   \n",
              "2  116328  Aravelly Avanish  Aravelly Avanish   \n",
              "3   62022         DL Chahar            Chahar   \n",
              "4   80607      TU Deshpande         Deshpande   \n",
              "\n",
              "                                              imgUrl        dob  \\\n",
              "0  https://img1.hscicdn.com/image/upload/f_auto,t...  31/1/1997   \n",
              "1  https://img1.hscicdn.com/image/upload/f_auto,t...  18/6/1987   \n",
              "2  https://img1.hscicdn.com/image/upload/f_auto,t...   2/6/2005   \n",
              "3  https://img1.hscicdn.com/image/upload/f_auto,t...   7/8/1992   \n",
              "4  https://img1.hscicdn.com/image/upload/f_auto,t...  15/5/1995   \n",
              "\n",
              "  longBattingStyles   longBowlingStyles  \n",
              "0    right-hand bat  right-arm offbreak  \n",
              "1     left-hand bat  right-arm offbreak  \n",
              "2     left-hand bat                  Na  \n",
              "3    right-hand bat    right-arm medium  \n",
              "4     left-hand bat    right-arm medium  "
            ],
            "text/html": [
              "\n",
              "  <div id=\"df-0db07746-4b26-43a6-8378-2edb95e8c07f\" class=\"colab-df-container\">\n",
              "    <div>\n",
              "<style scoped>\n",
              "    .dataframe tbody tr th:only-of-type {\n",
              "        vertical-align: middle;\n",
              "    }\n",
              "\n",
              "    .dataframe tbody tr th {\n",
              "        vertical-align: top;\n",
              "    }\n",
              "\n",
              "    .dataframe thead th {\n",
              "        text-align: right;\n",
              "    }\n",
              "</style>\n",
              "<table border=\"1\" class=\"dataframe\">\n",
              "  <thead>\n",
              "    <tr style=\"text-align: right;\">\n",
              "      <th></th>\n",
              "      <th>ID</th>\n",
              "      <th>battingName</th>\n",
              "      <th>fieldingName</th>\n",
              "      <th>imgUrl</th>\n",
              "      <th>dob</th>\n",
              "      <th>longBattingStyles</th>\n",
              "      <th>longBowlingStyles</th>\n",
              "    </tr>\n",
              "  </thead>\n",
              "  <tbody>\n",
              "    <tr>\n",
              "      <th>0</th>\n",
              "      <td>95094</td>\n",
              "      <td>RD Gaikwad</td>\n",
              "      <td>Gaikwad</td>\n",
              "      <td>https://img1.hscicdn.com/image/upload/f_auto,t...</td>\n",
              "      <td>31/1/1997</td>\n",
              "      <td>right-hand bat</td>\n",
              "      <td>right-arm offbreak</td>\n",
              "    </tr>\n",
              "    <tr>\n",
              "      <th>1</th>\n",
              "      <td>46597</td>\n",
              "      <td>MM Ali</td>\n",
              "      <td>Ali</td>\n",
              "      <td>https://img1.hscicdn.com/image/upload/f_auto,t...</td>\n",
              "      <td>18/6/1987</td>\n",
              "      <td>left-hand bat</td>\n",
              "      <td>right-arm offbreak</td>\n",
              "    </tr>\n",
              "    <tr>\n",
              "      <th>2</th>\n",
              "      <td>116328</td>\n",
              "      <td>Aravelly Avanish</td>\n",
              "      <td>Aravelly Avanish</td>\n",
              "      <td>https://img1.hscicdn.com/image/upload/f_auto,t...</td>\n",
              "      <td>2/6/2005</td>\n",
              "      <td>left-hand bat</td>\n",
              "      <td>Na</td>\n",
              "    </tr>\n",
              "    <tr>\n",
              "      <th>3</th>\n",
              "      <td>62022</td>\n",
              "      <td>DL Chahar</td>\n",
              "      <td>Chahar</td>\n",
              "      <td>https://img1.hscicdn.com/image/upload/f_auto,t...</td>\n",
              "      <td>7/8/1992</td>\n",
              "      <td>right-hand bat</td>\n",
              "      <td>right-arm medium</td>\n",
              "    </tr>\n",
              "    <tr>\n",
              "      <th>4</th>\n",
              "      <td>80607</td>\n",
              "      <td>TU Deshpande</td>\n",
              "      <td>Deshpande</td>\n",
              "      <td>https://img1.hscicdn.com/image/upload/f_auto,t...</td>\n",
              "      <td>15/5/1995</td>\n",
              "      <td>left-hand bat</td>\n",
              "      <td>right-arm medium</td>\n",
              "    </tr>\n",
              "  </tbody>\n",
              "</table>\n",
              "</div>\n",
              "    <div class=\"colab-df-buttons\">\n",
              "\n",
              "  <div class=\"colab-df-container\">\n",
              "    <button class=\"colab-df-convert\" onclick=\"convertToInteractive('df-0db07746-4b26-43a6-8378-2edb95e8c07f')\"\n",
              "            title=\"Convert this dataframe to an interactive table.\"\n",
              "            style=\"display:none;\">\n",
              "\n",
              "  <svg xmlns=\"http://www.w3.org/2000/svg\" height=\"24px\" viewBox=\"0 -960 960 960\">\n",
              "    <path d=\"M120-120v-720h720v720H120Zm60-500h600v-160H180v160Zm220 220h160v-160H400v160Zm0 220h160v-160H400v160ZM180-400h160v-160H180v160Zm440 0h160v-160H620v160ZM180-180h160v-160H180v160Zm440 0h160v-160H620v160Z\"/>\n",
              "  </svg>\n",
              "    </button>\n",
              "\n",
              "  <style>\n",
              "    .colab-df-container {\n",
              "      display:flex;\n",
              "      gap: 12px;\n",
              "    }\n",
              "\n",
              "    .colab-df-convert {\n",
              "      background-color: #E8F0FE;\n",
              "      border: none;\n",
              "      border-radius: 50%;\n",
              "      cursor: pointer;\n",
              "      display: none;\n",
              "      fill: #1967D2;\n",
              "      height: 32px;\n",
              "      padding: 0 0 0 0;\n",
              "      width: 32px;\n",
              "    }\n",
              "\n",
              "    .colab-df-convert:hover {\n",
              "      background-color: #E2EBFA;\n",
              "      box-shadow: 0px 1px 2px rgba(60, 64, 67, 0.3), 0px 1px 3px 1px rgba(60, 64, 67, 0.15);\n",
              "      fill: #174EA6;\n",
              "    }\n",
              "\n",
              "    .colab-df-buttons div {\n",
              "      margin-bottom: 4px;\n",
              "    }\n",
              "\n",
              "    [theme=dark] .colab-df-convert {\n",
              "      background-color: #3B4455;\n",
              "      fill: #D2E3FC;\n",
              "    }\n",
              "\n",
              "    [theme=dark] .colab-df-convert:hover {\n",
              "      background-color: #434B5C;\n",
              "      box-shadow: 0px 1px 3px 1px rgba(0, 0, 0, 0.15);\n",
              "      filter: drop-shadow(0px 1px 2px rgba(0, 0, 0, 0.3));\n",
              "      fill: #FFFFFF;\n",
              "    }\n",
              "  </style>\n",
              "\n",
              "    <script>\n",
              "      const buttonEl =\n",
              "        document.querySelector('#df-0db07746-4b26-43a6-8378-2edb95e8c07f button.colab-df-convert');\n",
              "      buttonEl.style.display =\n",
              "        google.colab.kernel.accessAllowed ? 'block' : 'none';\n",
              "\n",
              "      async function convertToInteractive(key) {\n",
              "        const element = document.querySelector('#df-0db07746-4b26-43a6-8378-2edb95e8c07f');\n",
              "        const dataTable =\n",
              "          await google.colab.kernel.invokeFunction('convertToInteractive',\n",
              "                                                    [key], {});\n",
              "        if (!dataTable) return;\n",
              "\n",
              "        const docLinkHtml = 'Like what you see? Visit the ' +\n",
              "          '<a target=\"_blank\" href=https://colab.research.google.com/notebooks/data_table.ipynb>data table notebook</a>'\n",
              "          + ' to learn more about interactive tables.';\n",
              "        element.innerHTML = '';\n",
              "        dataTable['output_type'] = 'display_data';\n",
              "        await google.colab.output.renderOutput(dataTable, element);\n",
              "        const docLink = document.createElement('div');\n",
              "        docLink.innerHTML = docLinkHtml;\n",
              "        element.appendChild(docLink);\n",
              "      }\n",
              "    </script>\n",
              "  </div>\n",
              "\n",
              "\n",
              "<div id=\"df-a9fa4425-7464-4af1-ae84-b6cb39531f53\">\n",
              "  <button class=\"colab-df-quickchart\" onclick=\"quickchart('df-a9fa4425-7464-4af1-ae84-b6cb39531f53')\"\n",
              "            title=\"Suggest charts\"\n",
              "            style=\"display:none;\">\n",
              "\n",
              "<svg xmlns=\"http://www.w3.org/2000/svg\" height=\"24px\"viewBox=\"0 0 24 24\"\n",
              "     width=\"24px\">\n",
              "    <g>\n",
              "        <path d=\"M19 3H5c-1.1 0-2 .9-2 2v14c0 1.1.9 2 2 2h14c1.1 0 2-.9 2-2V5c0-1.1-.9-2-2-2zM9 17H7v-7h2v7zm4 0h-2V7h2v10zm4 0h-2v-4h2v4z\"/>\n",
              "    </g>\n",
              "</svg>\n",
              "  </button>\n",
              "\n",
              "<style>\n",
              "  .colab-df-quickchart {\n",
              "      --bg-color: #E8F0FE;\n",
              "      --fill-color: #1967D2;\n",
              "      --hover-bg-color: #E2EBFA;\n",
              "      --hover-fill-color: #174EA6;\n",
              "      --disabled-fill-color: #AAA;\n",
              "      --disabled-bg-color: #DDD;\n",
              "  }\n",
              "\n",
              "  [theme=dark] .colab-df-quickchart {\n",
              "      --bg-color: #3B4455;\n",
              "      --fill-color: #D2E3FC;\n",
              "      --hover-bg-color: #434B5C;\n",
              "      --hover-fill-color: #FFFFFF;\n",
              "      --disabled-bg-color: #3B4455;\n",
              "      --disabled-fill-color: #666;\n",
              "  }\n",
              "\n",
              "  .colab-df-quickchart {\n",
              "    background-color: var(--bg-color);\n",
              "    border: none;\n",
              "    border-radius: 50%;\n",
              "    cursor: pointer;\n",
              "    display: none;\n",
              "    fill: var(--fill-color);\n",
              "    height: 32px;\n",
              "    padding: 0;\n",
              "    width: 32px;\n",
              "  }\n",
              "\n",
              "  .colab-df-quickchart:hover {\n",
              "    background-color: var(--hover-bg-color);\n",
              "    box-shadow: 0 1px 2px rgba(60, 64, 67, 0.3), 0 1px 3px 1px rgba(60, 64, 67, 0.15);\n",
              "    fill: var(--button-hover-fill-color);\n",
              "  }\n",
              "\n",
              "  .colab-df-quickchart-complete:disabled,\n",
              "  .colab-df-quickchart-complete:disabled:hover {\n",
              "    background-color: var(--disabled-bg-color);\n",
              "    fill: var(--disabled-fill-color);\n",
              "    box-shadow: none;\n",
              "  }\n",
              "\n",
              "  .colab-df-spinner {\n",
              "    border: 2px solid var(--fill-color);\n",
              "    border-color: transparent;\n",
              "    border-bottom-color: var(--fill-color);\n",
              "    animation:\n",
              "      spin 1s steps(1) infinite;\n",
              "  }\n",
              "\n",
              "  @keyframes spin {\n",
              "    0% {\n",
              "      border-color: transparent;\n",
              "      border-bottom-color: var(--fill-color);\n",
              "      border-left-color: var(--fill-color);\n",
              "    }\n",
              "    20% {\n",
              "      border-color: transparent;\n",
              "      border-left-color: var(--fill-color);\n",
              "      border-top-color: var(--fill-color);\n",
              "    }\n",
              "    30% {\n",
              "      border-color: transparent;\n",
              "      border-left-color: var(--fill-color);\n",
              "      border-top-color: var(--fill-color);\n",
              "      border-right-color: var(--fill-color);\n",
              "    }\n",
              "    40% {\n",
              "      border-color: transparent;\n",
              "      border-right-color: var(--fill-color);\n",
              "      border-top-color: var(--fill-color);\n",
              "    }\n",
              "    60% {\n",
              "      border-color: transparent;\n",
              "      border-right-color: var(--fill-color);\n",
              "    }\n",
              "    80% {\n",
              "      border-color: transparent;\n",
              "      border-right-color: var(--fill-color);\n",
              "      border-bottom-color: var(--fill-color);\n",
              "    }\n",
              "    90% {\n",
              "      border-color: transparent;\n",
              "      border-bottom-color: var(--fill-color);\n",
              "    }\n",
              "  }\n",
              "</style>\n",
              "\n",
              "  <script>\n",
              "    async function quickchart(key) {\n",
              "      const quickchartButtonEl =\n",
              "        document.querySelector('#' + key + ' button');\n",
              "      quickchartButtonEl.disabled = true;  // To prevent multiple clicks.\n",
              "      quickchartButtonEl.classList.add('colab-df-spinner');\n",
              "      try {\n",
              "        const charts = await google.colab.kernel.invokeFunction(\n",
              "            'suggestCharts', [key], {});\n",
              "      } catch (error) {\n",
              "        console.error('Error during call to suggestCharts:', error);\n",
              "      }\n",
              "      quickchartButtonEl.classList.remove('colab-df-spinner');\n",
              "      quickchartButtonEl.classList.add('colab-df-quickchart-complete');\n",
              "    }\n",
              "    (() => {\n",
              "      let quickchartButtonEl =\n",
              "        document.querySelector('#df-a9fa4425-7464-4af1-ae84-b6cb39531f53 button');\n",
              "      quickchartButtonEl.style.display =\n",
              "        google.colab.kernel.accessAllowed ? 'block' : 'none';\n",
              "    })();\n",
              "  </script>\n",
              "</div>\n",
              "\n",
              "    </div>\n",
              "  </div>\n"
            ],
            "application/vnd.google.colaboratory.intrinsic+json": {
              "type": "dataframe",
              "summary": "{\n  \"name\": \"display(df1\",\n  \"rows\": 5,\n  \"fields\": [\n    {\n      \"column\": \"ID\",\n      \"properties\": {\n        \"dtype\": \"number\",\n        \"std\": 27325,\n        \"min\": 46597,\n        \"max\": 116328,\n        \"num_unique_values\": 5,\n        \"samples\": [\n          46597,\n          80607,\n          116328\n        ],\n        \"semantic_type\": \"\",\n        \"description\": \"\"\n      }\n    },\n    {\n      \"column\": \"battingName\",\n      \"properties\": {\n        \"dtype\": \"string\",\n        \"num_unique_values\": 5,\n        \"samples\": [\n          \"MM Ali\",\n          \"TU Deshpande\",\n          \"Aravelly Avanish\"\n        ],\n        \"semantic_type\": \"\",\n        \"description\": \"\"\n      }\n    },\n    {\n      \"column\": \"fieldingName\",\n      \"properties\": {\n        \"dtype\": \"string\",\n        \"num_unique_values\": 5,\n        \"samples\": [\n          \"Ali\",\n          \"Deshpande\",\n          \"Aravelly Avanish\"\n        ],\n        \"semantic_type\": \"\",\n        \"description\": \"\"\n      }\n    },\n    {\n      \"column\": \"imgUrl\",\n      \"properties\": {\n        \"dtype\": \"string\",\n        \"num_unique_values\": 5,\n        \"samples\": [\n          \"https://img1.hscicdn.com/image/upload/f_auto,t_ds_square_w_640,q_50/lsci/db/PICTURES/CMS/316500/316557.png\",\n          \"https://img1.hscicdn.com/image/upload/f_auto,t_ds_square_w_640,q_50/lsci/db/PICTURES/CMS/339100/339160.png\",\n          \"https://img1.hscicdn.com/image/upload/f_auto,t_ds_square_w_640,q_50/lsci/db/PICTURES/CMS/379000/379037.4.jpg\"\n        ],\n        \"semantic_type\": \"\",\n        \"description\": \"\"\n      }\n    },\n    {\n      \"column\": \"dob\",\n      \"properties\": {\n        \"dtype\": \"object\",\n        \"num_unique_values\": 5,\n        \"samples\": [\n          \"18/6/1987\",\n          \"15/5/1995\",\n          \"2/6/2005\"\n        ],\n        \"semantic_type\": \"\",\n        \"description\": \"\"\n      }\n    },\n    {\n      \"column\": \"longBattingStyles\",\n      \"properties\": {\n        \"dtype\": \"category\",\n        \"num_unique_values\": 2,\n        \"samples\": [\n          \"left-hand bat\",\n          \"right-hand bat\"\n        ],\n        \"semantic_type\": \"\",\n        \"description\": \"\"\n      }\n    },\n    {\n      \"column\": \"longBowlingStyles\",\n      \"properties\": {\n        \"dtype\": \"string\",\n        \"num_unique_values\": 3,\n        \"samples\": [\n          \"right-arm offbreak\",\n          \"Na\"\n        ],\n        \"semantic_type\": \"\",\n        \"description\": \"\"\n      }\n    }\n  ]\n}"
            }
          },
          "metadata": {}
        }
      ]
    },
    {
      "cell_type": "code",
      "source": [
        "import pandas as pd\n",
        "print(df2.info())\n",
        "print(df2.head)"
      ],
      "metadata": {
        "colab": {
          "base_uri": "https://localhost:8080/"
        },
        "id": "Z2E5bwD3bI96",
        "outputId": "d184cb6f-998c-43bb-d5fd-96ed600e3656"
      },
      "execution_count": 5,
      "outputs": [
        {
          "output_type": "stream",
          "name": "stdout",
          "text": [
            "<class 'pandas.core.frame.DataFrame'>\n",
            "RangeIndex: 260920 entries, 0 to 260919\n",
            "Data columns (total 16 columns):\n",
            " #   Column            Non-Null Count   Dtype \n",
            "---  ------            --------------   ----- \n",
            " 0   ID                260920 non-null  int64 \n",
            " 1   Innings           260920 non-null  int64 \n",
            " 2   Overs             260920 non-null  int64 \n",
            " 3   BallNumber        260920 non-null  int64 \n",
            " 4   Batter            260920 non-null  object\n",
            " 5   Bowler            260920 non-null  object\n",
            " 6   NonStriker        260920 non-null  object\n",
            " 7   ExtraType         14125 non-null   object\n",
            " 8   BatsmanRun        260920 non-null  int64 \n",
            " 9   ExtrasRun         260920 non-null  int64 \n",
            " 10  TotalRun          260920 non-null  int64 \n",
            " 11  IsWicketDelivery  260920 non-null  int64 \n",
            " 12  PlayerOut         12950 non-null   object\n",
            " 13  Kind              12950 non-null   object\n",
            " 14  FieldersInvolved  9354 non-null    object\n",
            " 15  BattingTeam       260920 non-null  object\n",
            "dtypes: int64(8), object(8)\n",
            "memory usage: 31.9+ MB\n",
            "None\n",
            "<bound method NDFrame.head of              ID  Innings  Overs  BallNumber       Batter       Bowler  \\\n",
            "0       1304063        1      0           1   RV Uthappa      B Kumar   \n",
            "1       1304063        1      0           2   RV Uthappa      B Kumar   \n",
            "2       1304063        1      0           3   RV Uthappa      B Kumar   \n",
            "3       1304063        1      0           4   RV Uthappa      B Kumar   \n",
            "4       1304063        1      0           5   RV Uthappa      B Kumar   \n",
            "...         ...      ...    ...         ...          ...          ...   \n",
            "260915   729303        2     18           2     MS Dhoni  CJ Anderson   \n",
            "260916   729303        2     18           3     MS Dhoni  CJ Anderson   \n",
            "260917   729303        2     18           4  BB McCullum  CJ Anderson   \n",
            "260918   729303        2     18           5     MS Dhoni  CJ Anderson   \n",
            "260919   729303        2     18           6  BB McCullum  CJ Anderson   \n",
            "\n",
            "         NonStriker ExtraType  BatsmanRun  ExtrasRun  TotalRun  \\\n",
            "0        RD Gaikwad       NaN           0          0         0   \n",
            "1        RD Gaikwad       NaN           4          0         4   \n",
            "2        RD Gaikwad       NaN           2          0         2   \n",
            "3        RD Gaikwad       NaN           2          0         2   \n",
            "4        RD Gaikwad       NaN           0          0         0   \n",
            "...             ...       ...         ...        ...       ...   \n",
            "260915  BB McCullum       NaN           4          0         4   \n",
            "260916  BB McCullum       NaN           1          0         1   \n",
            "260917     MS Dhoni       NaN           1          0         1   \n",
            "260918  BB McCullum       NaN           1          0         1   \n",
            "260919     MS Dhoni       NaN           1          0         1   \n",
            "\n",
            "        IsWicketDelivery PlayerOut Kind FieldersInvolved          BattingTeam  \n",
            "0                      0       NaN  NaN              NaN  Chennai Super Kings  \n",
            "1                      0       NaN  NaN              NaN  Chennai Super Kings  \n",
            "2                      0       NaN  NaN              NaN  Chennai Super Kings  \n",
            "3                      0       NaN  NaN              NaN  Chennai Super Kings  \n",
            "4                      0       NaN  NaN              NaN  Chennai Super Kings  \n",
            "...                  ...       ...  ...              ...                  ...  \n",
            "260915                 0       NaN  NaN              NaN  Chennai Super Kings  \n",
            "260916                 0       NaN  NaN              NaN  Chennai Super Kings  \n",
            "260917                 0       NaN  NaN              NaN  Chennai Super Kings  \n",
            "260918                 0       NaN  NaN              NaN  Chennai Super Kings  \n",
            "260919                 0       NaN  NaN              NaN  Chennai Super Kings  \n",
            "\n",
            "[260920 rows x 16 columns]>\n"
          ]
        }
      ]
    },
    {
      "cell_type": "code",
      "source": [
        "import pandas as pd\n",
        "from IPython.display import display\n",
        "\n",
        "display(print(df1.isnull().sum()))\n",
        "display(print(df2.isnull().sum()))\n",
        "display(print(df3.isnull().sum()))\n",
        "display(print(df4.isnull().sum()))"
      ],
      "metadata": {
        "colab": {
          "base_uri": "https://localhost:8080/",
          "height": 874
        },
        "id": "F257Du3vb2IC",
        "outputId": "acb838c0-428b-44d1-93eb-d70267ab4817"
      },
      "execution_count": 6,
      "outputs": [
        {
          "output_type": "stream",
          "name": "stdout",
          "text": [
            "ID                   0\n",
            "battingName          0\n",
            "fieldingName         0\n",
            "imgUrl               0\n",
            "dob                  0\n",
            "longBattingStyles    0\n",
            "longBowlingStyles    0\n",
            "dtype: int64\n"
          ]
        },
        {
          "output_type": "display_data",
          "data": {
            "text/plain": [
              "None"
            ]
          },
          "metadata": {}
        },
        {
          "output_type": "stream",
          "name": "stdout",
          "text": [
            "ID                       0\n",
            "Innings                  0\n",
            "Overs                    0\n",
            "BallNumber               0\n",
            "Batter                   0\n",
            "Bowler                   0\n",
            "NonStriker               0\n",
            "ExtraType           246795\n",
            "BatsmanRun               0\n",
            "ExtrasRun                0\n",
            "TotalRun                 0\n",
            "IsWicketDelivery         0\n",
            "PlayerOut           247970\n",
            "Kind                247970\n",
            "FieldersInvolved    251566\n",
            "BattingTeam              0\n",
            "dtype: int64\n"
          ]
        },
        {
          "output_type": "display_data",
          "data": {
            "text/plain": [
              "None"
            ]
          },
          "metadata": {}
        },
        {
          "output_type": "stream",
          "name": "stdout",
          "text": [
            "match_number          0\n",
            "team1                 0\n",
            "team2                 0\n",
            "match_date            0\n",
            "toss_winner           0\n",
            "toss_decision         0\n",
            "result                0\n",
            "eliminator         1081\n",
            "winner               19\n",
            "player_of_match       0\n",
            "venue                 0\n",
            "city                 51\n",
            "team1_players         0\n",
            "team2_players         0\n",
            "dtype: int64\n"
          ]
        },
        {
          "output_type": "display_data",
          "data": {
            "text/plain": [
              "None"
            ]
          },
          "metadata": {}
        },
        {
          "output_type": "stream",
          "name": "stdout",
          "text": [
            "team_name    0\n",
            "url          0\n",
            "espn_id      0\n",
            "dtype: int64\n"
          ]
        },
        {
          "output_type": "display_data",
          "data": {
            "text/plain": [
              "None"
            ]
          },
          "metadata": {}
        }
      ]
    },
    {
      "cell_type": "code",
      "source": [
        "print(df3.info())\n",
        "display(print(df3.head))"
      ],
      "metadata": {
        "colab": {
          "base_uri": "https://localhost:8080/",
          "height": 1000
        },
        "id": "ab_hpHA9cmpW",
        "outputId": "d78cd9f1-5cad-4964-f35f-5ed1ebc28e3f"
      },
      "execution_count": 7,
      "outputs": [
        {
          "output_type": "stream",
          "name": "stdout",
          "text": [
            "<class 'pandas.core.frame.DataFrame'>\n",
            "RangeIndex: 1095 entries, 0 to 1094\n",
            "Data columns (total 14 columns):\n",
            " #   Column           Non-Null Count  Dtype \n",
            "---  ------           --------------  ----- \n",
            " 0   match_number     1095 non-null   int64 \n",
            " 1   team1            1095 non-null   object\n",
            " 2   team2            1095 non-null   object\n",
            " 3   match_date       1095 non-null   object\n",
            " 4   toss_winner      1095 non-null   object\n",
            " 5   toss_decision    1095 non-null   object\n",
            " 6   result           1095 non-null   object\n",
            " 7   eliminator       14 non-null     object\n",
            " 8   winner           1076 non-null   object\n",
            " 9   player_of_match  1095 non-null   object\n",
            " 10  venue            1095 non-null   object\n",
            " 11  city             1044 non-null   object\n",
            " 12  team1_players    1095 non-null   object\n",
            " 13  team2_players    1095 non-null   object\n",
            "dtypes: int64(1), object(13)\n",
            "memory usage: 119.9+ KB\n",
            "None\n",
            "<bound method NDFrame.head of       match_number                  team1                  team2  match_date  \\\n",
            "0          1304063    Chennai Super Kings    Sunrisers Hyderabad  2022-04-09   \n",
            "1           598000    Sunrisers Hyderabad          Pune Warriors  2013-04-05   \n",
            "2           829801       Delhi Daredevils    Chennai Super Kings  2015-05-12   \n",
            "3           392195        Kings XI Punjab       Rajasthan Royals  2009-04-26   \n",
            "4           734023  Kolkata Knight Riders    Chennai Super Kings  2014-05-20   \n",
            "...            ...                    ...                    ...         ...   \n",
            "1090        501254   Kochi Tuskers Kerala        Kings XI Punjab  2011-05-13   \n",
            "1091       1216508         Mumbai Indians  Kolkata Knight Riders  2020-09-23   \n",
            "1092        501201       Delhi Daredevils         Mumbai Indians  2011-04-10   \n",
            "1093        392198       Delhi Daredevils       Rajasthan Royals  2009-04-28   \n",
            "1094        729303    Chennai Super Kings         Mumbai Indians  2014-04-25   \n",
            "\n",
            "                toss_winner toss_decision result eliminator  \\\n",
            "0       Sunrisers Hyderabad         field    Win        NaN   \n",
            "1             Pune Warriors         field    Win        NaN   \n",
            "2       Chennai Super Kings           bat    Win        NaN   \n",
            "3           Kings XI Punjab           bat    Win        NaN   \n",
            "4     Kolkata Knight Riders         field    Win        NaN   \n",
            "...                     ...           ...    ...        ...   \n",
            "1090        Kings XI Punjab         field    Win        NaN   \n",
            "1091  Kolkata Knight Riders         field    Win        NaN   \n",
            "1092       Delhi Daredevils           bat    Win        NaN   \n",
            "1093       Delhi Daredevils           bat    Win        NaN   \n",
            "1094         Mumbai Indians           bat    Win        NaN   \n",
            "\n",
            "                     winner  player_of_match  \\\n",
            "0       Sunrisers Hyderabad  Abhishek Sharma   \n",
            "1       Sunrisers Hyderabad         A Mishra   \n",
            "2          Delhi Daredevils           Z Khan   \n",
            "3           Kings XI Punjab    KC Sangakkara   \n",
            "4     Kolkata Knight Riders       RV Uthappa   \n",
            "...                     ...              ...   \n",
            "1090        Kings XI Punjab       KD Karthik   \n",
            "1091         Mumbai Indians        RG Sharma   \n",
            "1092         Mumbai Indians       SL Malinga   \n",
            "1093       Rajasthan Royals        YK Pathan   \n",
            "1094    Chennai Super Kings        MM Sharma   \n",
            "\n",
            "                                                 venue       city  \\\n",
            "0                   Dr DY Patil Sports Academy, Mumbai     Mumbai   \n",
            "1            Rajiv Gandhi International Stadium, Uppal  Hyderabad   \n",
            "2     Shaheed Veer Narayan Singh International Stadium     Raipur   \n",
            "3                                             Newlands  Cape Town   \n",
            "4                                         Eden Gardens    Kolkata   \n",
            "...                                                ...        ...   \n",
            "1090                            Holkar Cricket Stadium     Indore   \n",
            "1091                              Sheikh Zayed Stadium  Abu Dhabi   \n",
            "1092                                  Feroz Shah Kotla      Delhi   \n",
            "1093                                   SuperSport Park  Centurion   \n",
            "1094               Dubai International Cricket Stadium        NaN   \n",
            "\n",
            "                                          team1_players  \\\n",
            "0     RV Uthappa, RD Gaikwad, MM Ali, AT Rayudu, S D...   \n",
            "1     PA Reddy, PA Patel, KC Sangakkara, CL White, N...   \n",
            "2     Q de Kock, SS Iyer, JP Duminy, Yuvraj Singh, J...   \n",
            "3     RS Bopara, K Goel, KC Sangakkara, Yuvraj Singh...   \n",
            "4     RV Uthappa, G Gambhir, MK Pandey, Shakib Al Ha...   \n",
            "...                                                 ...   \n",
            "1090  BB McCullum, DPMD Jayawardene, RA Jadeja, BJ H...   \n",
            "1091  Q de Kock, RG Sharma, SA Yadav, SS Tiwary, HH ...   \n",
            "1092  DA Warner, V Sehwag, UBT Chand, AJ Finch, NV O...   \n",
            "1093  G Gambhir, V Sehwag, AB de Villiers, TM Dilsha...   \n",
            "1094  DR Smith, BB McCullum, SK Raina, F du Plessis,...   \n",
            "\n",
            "                                          team2_players  \n",
            "0     Abhishek Sharma, KS Williamson, RA Tripathi, N...  \n",
            "1     RV Uthappa, MK Pandey, MN Samuels, Yuvraj Sing...  \n",
            "2     DR Smith, BB McCullum, SK Raina, F du Plessis,...  \n",
            "3     SA Asnodkar, GC Smith, RJ Quiney, YK Pathan, A...  \n",
            "4     DR Smith, BB McCullum, SK Raina, F du Plessis,...  \n",
            "...                                                 ...  \n",
            "1090  AC Gilchrist, PC Valthaty, SE Marsh, KD Karthi...  \n",
            "1091  Shubman Gill, SP Narine, KD Karthik, N Rana, E...  \n",
            "1092  DJ Jacobs, SR Tendulkar, AT Rayudu, RG Sharma,...  \n",
            "1093  RJ Quiney, GC Smith, SA Asnodkar, PC Valthaty,...  \n",
            "1094  MEK Hussey, AP Tare, CJ Anderson, RG Sharma, K...  \n",
            "\n",
            "[1095 rows x 14 columns]>\n"
          ]
        },
        {
          "output_type": "display_data",
          "data": {
            "text/plain": [
              "None"
            ]
          },
          "metadata": {}
        }
      ]
    },
    {
      "cell_type": "code",
      "source": [
        "import pandas as pd\n",
        "\n",
        "# Replace 'file1.csv' and 'file2.csv' with your actual file names\n",
        "file1 = \"/2024_players_details.csv\"\n",
        "file2 = \"/Ball_By_Ball_Match_Data.csv\"\n",
        "file3 = \"/Match_Info.csv\"\n",
        "file4 = \"/teams_info.csv\"\n",
        "\n",
        "# Read the CSV files into pandas DataFrames\n",
        "df1 = pd.read_csv(file1)\n",
        "df2 = pd.read_csv(file2)  # Make sure this line is executed before using df2\n",
        "df3 = pd.read_csv(file3)\n",
        "df4 = pd.read_csv(file4)\n",
        "\n",
        "# Calculate total runs scored by each batter\n",
        "total_runs = df2.groupby('Batter')['BatsmanRun'].sum().reset_index()\n",
        "total_runs = total_runs.rename(columns={'BatsmanRun': 'TotalRuns'})\n",
        "total_runs = total_runs.sort_values(by='TotalRuns', ascending=False)\n",
        "print(total_runs.head())"
      ],
      "metadata": {
        "colab": {
          "base_uri": "https://localhost:8080/"
        },
        "id": "qP9YruJAUBro",
        "outputId": "bf207935-55eb-49c5-a3e0-4084ba8df753"
      },
      "execution_count": 8,
      "outputs": [
        {
          "output_type": "stream",
          "name": "stdout",
          "text": [
            "        Batter  TotalRuns\n",
            "631    V Kohli       8014\n",
            "512   S Dhawan       6769\n",
            "477  RG Sharma       6630\n",
            "147  DA Warner       6567\n",
            "546   SK Raina       5536\n"
          ]
        }
      ]
    },
    {
      "cell_type": "code",
      "source": [
        "print(df4.info())\n",
        "print(df1.info())"
      ],
      "metadata": {
        "colab": {
          "base_uri": "https://localhost:8080/"
        },
        "id": "HBsQJY3YpHxl",
        "outputId": "92a104b4-196b-428d-db42-a6f6413e82cb"
      },
      "execution_count": 10,
      "outputs": [
        {
          "output_type": "stream",
          "name": "stdout",
          "text": [
            "<class 'pandas.core.frame.DataFrame'>\n",
            "RangeIndex: 19 entries, 0 to 18\n",
            "Data columns (total 3 columns):\n",
            " #   Column     Non-Null Count  Dtype \n",
            "---  ------     --------------  ----- \n",
            " 0   team_name  19 non-null     object\n",
            " 1   url        19 non-null     object\n",
            " 2   espn_id    19 non-null     int64 \n",
            "dtypes: int64(1), object(2)\n",
            "memory usage: 584.0+ bytes\n",
            "None\n",
            "<class 'pandas.core.frame.DataFrame'>\n",
            "RangeIndex: 261 entries, 0 to 260\n",
            "Data columns (total 13 columns):\n",
            " #   Column             Non-Null Count  Dtype \n",
            "---  ------             --------------  ----- \n",
            " 0   ID                 261 non-null    int64 \n",
            " 1   Name               261 non-null    object\n",
            " 2   longName           261 non-null    object\n",
            " 3   battingName        261 non-null    object\n",
            " 4   fieldingName       261 non-null    object\n",
            " 5   imgUrl             261 non-null    object\n",
            " 6   dob                261 non-null    object\n",
            " 7   battingStyles      261 non-null    object\n",
            " 8   longBattingStyles  261 non-null    object\n",
            " 9   bowlingStyles      261 non-null    object\n",
            " 10  longBowlingStyles  261 non-null    object\n",
            " 11  playingRoles       237 non-null    object\n",
            " 12  espn_url           261 non-null    object\n",
            "dtypes: int64(1), object(12)\n",
            "memory usage: 26.6+ KB\n",
            "None\n"
          ]
        }
      ]
    },
    {
      "cell_type": "code",
      "source": [
        "# Merge File 1 with File 2 using Match ID\n",
        "match_performance = pd.merge(file1, file2, left_on='match_number', right_on='ID', how='inner')\n",
        "\n",
        "# Display the merged dataset\n",
        "print(match_performance.head())\n"
      ],
      "metadata": {
        "colab": {
          "base_uri": "https://localhost:8080/",
          "height": 365
        },
        "id": "ne1wtL3HqPyZ",
        "outputId": "42541117-d541-45d7-f9d6-ab2921da14b8"
      },
      "execution_count": 12,
      "outputs": [
        {
          "output_type": "error",
          "ename": "TypeError",
          "evalue": "Can only merge Series or DataFrame objects, a <class 'str'> was passed",
          "traceback": [
            "\u001b[0;31m---------------------------------------------------------------------------\u001b[0m",
            "\u001b[0;31mTypeError\u001b[0m                                 Traceback (most recent call last)",
            "\u001b[0;32m<ipython-input-12-02c78cd7af44>\u001b[0m in \u001b[0;36m<cell line: 2>\u001b[0;34m()\u001b[0m\n\u001b[1;32m      1\u001b[0m \u001b[0;31m# Merge File 1 with File 2 using Match ID\u001b[0m\u001b[0;34m\u001b[0m\u001b[0;34m\u001b[0m\u001b[0m\n\u001b[0;32m----> 2\u001b[0;31m \u001b[0mmatch_performance\u001b[0m \u001b[0;34m=\u001b[0m \u001b[0mpd\u001b[0m\u001b[0;34m.\u001b[0m\u001b[0mmerge\u001b[0m\u001b[0;34m(\u001b[0m\u001b[0mfile1\u001b[0m\u001b[0;34m,\u001b[0m \u001b[0mfile2\u001b[0m\u001b[0;34m,\u001b[0m \u001b[0mleft_on\u001b[0m\u001b[0;34m=\u001b[0m\u001b[0;34m'match_number'\u001b[0m\u001b[0;34m,\u001b[0m \u001b[0mright_on\u001b[0m\u001b[0;34m=\u001b[0m\u001b[0;34m'ID'\u001b[0m\u001b[0;34m,\u001b[0m \u001b[0mhow\u001b[0m\u001b[0;34m=\u001b[0m\u001b[0;34m'inner'\u001b[0m\u001b[0;34m)\u001b[0m\u001b[0;34m\u001b[0m\u001b[0;34m\u001b[0m\u001b[0m\n\u001b[0m\u001b[1;32m      3\u001b[0m \u001b[0;34m\u001b[0m\u001b[0m\n\u001b[1;32m      4\u001b[0m \u001b[0;31m# Display the merged dataset\u001b[0m\u001b[0;34m\u001b[0m\u001b[0;34m\u001b[0m\u001b[0m\n\u001b[1;32m      5\u001b[0m \u001b[0mprint\u001b[0m\u001b[0;34m(\u001b[0m\u001b[0mmatch_performance\u001b[0m\u001b[0;34m.\u001b[0m\u001b[0mhead\u001b[0m\u001b[0;34m(\u001b[0m\u001b[0;34m)\u001b[0m\u001b[0;34m)\u001b[0m\u001b[0;34m\u001b[0m\u001b[0;34m\u001b[0m\u001b[0m\n",
            "\u001b[0;32m/usr/local/lib/python3.10/dist-packages/pandas/core/reshape/merge.py\u001b[0m in \u001b[0;36mmerge\u001b[0;34m(left, right, how, on, left_on, right_on, left_index, right_index, sort, suffixes, copy, indicator, validate)\u001b[0m\n\u001b[1;32m    150\u001b[0m     \u001b[0mvalidate\u001b[0m\u001b[0;34m:\u001b[0m \u001b[0mstr\u001b[0m \u001b[0;34m|\u001b[0m \u001b[0;32mNone\u001b[0m \u001b[0;34m=\u001b[0m \u001b[0;32mNone\u001b[0m\u001b[0;34m,\u001b[0m\u001b[0;34m\u001b[0m\u001b[0;34m\u001b[0m\u001b[0m\n\u001b[1;32m    151\u001b[0m ) -> DataFrame:\n\u001b[0;32m--> 152\u001b[0;31m     \u001b[0mleft_df\u001b[0m \u001b[0;34m=\u001b[0m \u001b[0m_validate_operand\u001b[0m\u001b[0;34m(\u001b[0m\u001b[0mleft\u001b[0m\u001b[0;34m)\u001b[0m\u001b[0;34m\u001b[0m\u001b[0;34m\u001b[0m\u001b[0m\n\u001b[0m\u001b[1;32m    153\u001b[0m     \u001b[0mright_df\u001b[0m \u001b[0;34m=\u001b[0m \u001b[0m_validate_operand\u001b[0m\u001b[0;34m(\u001b[0m\u001b[0mright\u001b[0m\u001b[0;34m)\u001b[0m\u001b[0;34m\u001b[0m\u001b[0;34m\u001b[0m\u001b[0m\n\u001b[1;32m    154\u001b[0m     \u001b[0;32mif\u001b[0m \u001b[0mhow\u001b[0m \u001b[0;34m==\u001b[0m \u001b[0;34m\"cross\"\u001b[0m\u001b[0;34m:\u001b[0m\u001b[0;34m\u001b[0m\u001b[0;34m\u001b[0m\u001b[0m\n",
            "\u001b[0;32m/usr/local/lib/python3.10/dist-packages/pandas/core/reshape/merge.py\u001b[0m in \u001b[0;36m_validate_operand\u001b[0;34m(obj)\u001b[0m\n\u001b[1;32m   2690\u001b[0m         \u001b[0;32mreturn\u001b[0m \u001b[0mobj\u001b[0m\u001b[0;34m.\u001b[0m\u001b[0mto_frame\u001b[0m\u001b[0;34m(\u001b[0m\u001b[0;34m)\u001b[0m\u001b[0;34m\u001b[0m\u001b[0;34m\u001b[0m\u001b[0m\n\u001b[1;32m   2691\u001b[0m     \u001b[0;32melse\u001b[0m\u001b[0;34m:\u001b[0m\u001b[0;34m\u001b[0m\u001b[0;34m\u001b[0m\u001b[0m\n\u001b[0;32m-> 2692\u001b[0;31m         raise TypeError(\n\u001b[0m\u001b[1;32m   2693\u001b[0m             \u001b[0;34mf\"Can only merge Series or DataFrame objects, a {type(obj)} was passed\"\u001b[0m\u001b[0;34m\u001b[0m\u001b[0;34m\u001b[0m\u001b[0m\n\u001b[1;32m   2694\u001b[0m         )\n",
            "\u001b[0;31mTypeError\u001b[0m: Can only merge Series or DataFrame objects, a <class 'str'> was passed"
          ]
        }
      ]
    },
    {
      "cell_type": "code",
      "source": [
        "# Sum of runs scored by each batter\n",
        "top_scorers = file2.groupby('Batter')['BatsmanRun'].sum().reset_index()\n",
        "top_scorers = top_scorers.sort_values(by='BatsmanRun', ascending=False).head(10)\n",
        "print(top_scorers)\n"
      ],
      "metadata": {
        "colab": {
          "base_uri": "https://localhost:8080/",
          "height": 198
        },
        "id": "rqVm1uhyqbZo",
        "outputId": "d5f53bf1-95e3-4b17-fbc0-88f1344cb1c9"
      },
      "execution_count": 13,
      "outputs": [
        {
          "output_type": "error",
          "ename": "AttributeError",
          "evalue": "'str' object has no attribute 'groupby'",
          "traceback": [
            "\u001b[0;31m---------------------------------------------------------------------------\u001b[0m",
            "\u001b[0;31mAttributeError\u001b[0m                            Traceback (most recent call last)",
            "\u001b[0;32m<ipython-input-13-655e6a26553c>\u001b[0m in \u001b[0;36m<cell line: 2>\u001b[0;34m()\u001b[0m\n\u001b[1;32m      1\u001b[0m \u001b[0;31m# Sum of runs scored by each batter\u001b[0m\u001b[0;34m\u001b[0m\u001b[0;34m\u001b[0m\u001b[0m\n\u001b[0;32m----> 2\u001b[0;31m \u001b[0mtop_scorers\u001b[0m \u001b[0;34m=\u001b[0m \u001b[0mfile2\u001b[0m\u001b[0;34m.\u001b[0m\u001b[0mgroupby\u001b[0m\u001b[0;34m(\u001b[0m\u001b[0;34m'Batter'\u001b[0m\u001b[0;34m)\u001b[0m\u001b[0;34m[\u001b[0m\u001b[0;34m'BatsmanRun'\u001b[0m\u001b[0;34m]\u001b[0m\u001b[0;34m.\u001b[0m\u001b[0msum\u001b[0m\u001b[0;34m(\u001b[0m\u001b[0;34m)\u001b[0m\u001b[0;34m.\u001b[0m\u001b[0mreset_index\u001b[0m\u001b[0;34m(\u001b[0m\u001b[0;34m)\u001b[0m\u001b[0;34m\u001b[0m\u001b[0;34m\u001b[0m\u001b[0m\n\u001b[0m\u001b[1;32m      3\u001b[0m \u001b[0mtop_scorers\u001b[0m \u001b[0;34m=\u001b[0m \u001b[0mtop_scorers\u001b[0m\u001b[0;34m.\u001b[0m\u001b[0msort_values\u001b[0m\u001b[0;34m(\u001b[0m\u001b[0mby\u001b[0m\u001b[0;34m=\u001b[0m\u001b[0;34m'BatsmanRun'\u001b[0m\u001b[0;34m,\u001b[0m \u001b[0mascending\u001b[0m\u001b[0;34m=\u001b[0m\u001b[0;32mFalse\u001b[0m\u001b[0;34m)\u001b[0m\u001b[0;34m.\u001b[0m\u001b[0mhead\u001b[0m\u001b[0;34m(\u001b[0m\u001b[0;36m10\u001b[0m\u001b[0;34m)\u001b[0m\u001b[0;34m\u001b[0m\u001b[0;34m\u001b[0m\u001b[0m\n\u001b[1;32m      4\u001b[0m \u001b[0mprint\u001b[0m\u001b[0;34m(\u001b[0m\u001b[0mtop_scorers\u001b[0m\u001b[0;34m)\u001b[0m\u001b[0;34m\u001b[0m\u001b[0;34m\u001b[0m\u001b[0m\n",
            "\u001b[0;31mAttributeError\u001b[0m: 'str' object has no attribute 'groupby'"
          ]
        }
      ]
    },
    {
      "cell_type": "code",
      "source": [
        "import pandas as pd\n",
        "\n",
        "# Reload the dataset\n",
        "file2 = pd.read_csv('/Ball_By_Ball_Match_Data.csv')\n",
        "print(file2.head())  # Verify it's loaded correctly\n"
      ],
      "metadata": {
        "colab": {
          "base_uri": "https://localhost:8080/"
        },
        "id": "R54kLTgUqpCQ",
        "outputId": "3c9aaea9-64bf-4b3d-d9d7-db926793bb0b"
      },
      "execution_count": 16,
      "outputs": [
        {
          "output_type": "stream",
          "name": "stdout",
          "text": [
            "        ID  Innings  Overs  BallNumber      Batter   Bowler  NonStriker  \\\n",
            "0  1304063        1      0           1  RV Uthappa  B Kumar  RD Gaikwad   \n",
            "1  1304063        1      0           2  RV Uthappa  B Kumar  RD Gaikwad   \n",
            "2  1304063        1      0           3  RV Uthappa  B Kumar  RD Gaikwad   \n",
            "3  1304063        1      0           4  RV Uthappa  B Kumar  RD Gaikwad   \n",
            "4  1304063        1      0           5  RV Uthappa  B Kumar  RD Gaikwad   \n",
            "\n",
            "  ExtraType  BatsmanRun  ExtrasRun  TotalRun  IsWicketDelivery PlayerOut Kind  \\\n",
            "0       NaN           0          0         0                 0       NaN  NaN   \n",
            "1       NaN           4          0         4                 0       NaN  NaN   \n",
            "2       NaN           2          0         2                 0       NaN  NaN   \n",
            "3       NaN           2          0         2                 0       NaN  NaN   \n",
            "4       NaN           0          0         0                 0       NaN  NaN   \n",
            "\n",
            "  FieldersInvolved          BattingTeam  \n",
            "0              NaN  Chennai Super Kings  \n",
            "1              NaN  Chennai Super Kings  \n",
            "2              NaN  Chennai Super Kings  \n",
            "3              NaN  Chennai Super Kings  \n",
            "4              NaN  Chennai Super Kings  \n"
          ]
        }
      ]
    },
    {
      "cell_type": "code",
      "source": [
        "print(type(file2))\n"
      ],
      "metadata": {
        "colab": {
          "base_uri": "https://localhost:8080/"
        },
        "id": "zjugto5BrYcw",
        "outputId": "eb0c1d07-24a6-4f5b-c138-758a0e2a21c9"
      },
      "execution_count": 17,
      "outputs": [
        {
          "output_type": "stream",
          "name": "stdout",
          "text": [
            "<class 'pandas.core.frame.DataFrame'>\n"
          ]
        }
      ]
    },
    {
      "cell_type": "code",
      "source": [
        "top_scorers = file2.groupby('Batter')['BatsmanRun'].sum().reset_index()\n",
        "top_scorers = top_scorers.sort_values(by='BatsmanRun', ascending=False).head(10)\n",
        "print(top_scorers)\n"
      ],
      "metadata": {
        "colab": {
          "base_uri": "https://localhost:8080/"
        },
        "id": "VEyHGHQkrfnc",
        "outputId": "0cfac84b-e10b-46b0-9bc4-5424f8026508"
      },
      "execution_count": 18,
      "outputs": [
        {
          "output_type": "stream",
          "name": "stdout",
          "text": [
            "             Batter  BatsmanRun\n",
            "631         V Kohli        8014\n",
            "512        S Dhawan        6769\n",
            "477       RG Sharma        6630\n",
            "147       DA Warner        6567\n",
            "546        SK Raina        5536\n",
            "374        MS Dhoni        5243\n",
            "30   AB de Villiers        5181\n",
            "124        CH Gayle        4997\n",
            "501      RV Uthappa        4954\n",
            "282      KD Karthik        4843\n"
          ]
        }
      ]
    },
    {
      "cell_type": "code",
      "source": [
        "# Count of wickets taken by each bowler\n",
        "top_wicket_takers = file2[file2['IsWicketDelivery'] == 1].groupby('Bowler').size().reset_index(name='Wickets')\n",
        "top_wicket_takers = top_wicket_takers.sort_values(by='Wickets', ascending=False).head(10)\n",
        "print(top_wicket_takers)\n"
      ],
      "metadata": {
        "colab": {
          "base_uri": "https://localhost:8080/"
        },
        "id": "IrLlCDIMro-3",
        "outputId": "fa6b218d-9751-44bc-9b1a-19aa2bd21a6f"
      },
      "execution_count": 19,
      "outputs": [
        {
          "output_type": "stream",
          "name": "stdout",
          "text": [
            "         Bowler  Wickets\n",
            "449   YS Chahal      213\n",
            "104    DJ Bravo      207\n",
            "301   PP Chawla      201\n",
            "383   SP Narine      200\n",
            "308    R Ashwin      198\n",
            "63      B Kumar      195\n",
            "376  SL Malinga      188\n",
            "7      A Mishra      183\n",
            "171   JJ Bumrah      182\n",
            "323   RA Jadeja      169\n"
          ]
        }
      ]
    },
    {
      "cell_type": "code",
      "source": [
        "# Toss decision impact on match outcome\n",
        "file1['TossImpact'] = file1['toss_winner'] == file1['winner']\n",
        "toss_impact = file1['TossImpact'].value_counts(normalize=True) * 100\n",
        "print(f\"Toss Impact:\\n{toss_impact}\")\n"
      ],
      "metadata": {
        "colab": {
          "base_uri": "https://localhost:8080/",
          "height": 198
        },
        "id": "XdCF0ma1ruUJ",
        "outputId": "466a5af9-c60a-498d-d43f-166cefd7a4e5"
      },
      "execution_count": 20,
      "outputs": [
        {
          "output_type": "error",
          "ename": "TypeError",
          "evalue": "string indices must be integers",
          "traceback": [
            "\u001b[0;31m---------------------------------------------------------------------------\u001b[0m",
            "\u001b[0;31mTypeError\u001b[0m                                 Traceback (most recent call last)",
            "\u001b[0;32m<ipython-input-20-445427b39728>\u001b[0m in \u001b[0;36m<cell line: 2>\u001b[0;34m()\u001b[0m\n\u001b[1;32m      1\u001b[0m \u001b[0;31m# Toss decision impact on match outcome\u001b[0m\u001b[0;34m\u001b[0m\u001b[0;34m\u001b[0m\u001b[0m\n\u001b[0;32m----> 2\u001b[0;31m \u001b[0mfile1\u001b[0m\u001b[0;34m[\u001b[0m\u001b[0;34m'TossImpact'\u001b[0m\u001b[0;34m]\u001b[0m \u001b[0;34m=\u001b[0m \u001b[0mfile1\u001b[0m\u001b[0;34m[\u001b[0m\u001b[0;34m'toss_winner'\u001b[0m\u001b[0;34m]\u001b[0m \u001b[0;34m==\u001b[0m \u001b[0mfile1\u001b[0m\u001b[0;34m[\u001b[0m\u001b[0;34m'winner'\u001b[0m\u001b[0;34m]\u001b[0m\u001b[0;34m\u001b[0m\u001b[0;34m\u001b[0m\u001b[0m\n\u001b[0m\u001b[1;32m      3\u001b[0m \u001b[0mtoss_impact\u001b[0m \u001b[0;34m=\u001b[0m \u001b[0mfile1\u001b[0m\u001b[0;34m[\u001b[0m\u001b[0;34m'TossImpact'\u001b[0m\u001b[0;34m]\u001b[0m\u001b[0;34m.\u001b[0m\u001b[0mvalue_counts\u001b[0m\u001b[0;34m(\u001b[0m\u001b[0mnormalize\u001b[0m\u001b[0;34m=\u001b[0m\u001b[0;32mTrue\u001b[0m\u001b[0;34m)\u001b[0m \u001b[0;34m*\u001b[0m \u001b[0;36m100\u001b[0m\u001b[0;34m\u001b[0m\u001b[0;34m\u001b[0m\u001b[0m\n\u001b[1;32m      4\u001b[0m \u001b[0mprint\u001b[0m\u001b[0;34m(\u001b[0m\u001b[0;34mf\"Toss Impact:\\n{toss_impact}\"\u001b[0m\u001b[0;34m)\u001b[0m\u001b[0;34m\u001b[0m\u001b[0;34m\u001b[0m\u001b[0m\n",
            "\u001b[0;31mTypeError\u001b[0m: string indices must be integers"
          ]
        }
      ]
    },
    {
      "cell_type": "code",
      "source": [
        "import pandas as pd\n",
        "\n",
        "# Reload file1\n",
        "file1 = pd.read_csv('/Match_Info.csv')\n",
        "print(file1.head())  # Verify correct loading\n"
      ],
      "metadata": {
        "colab": {
          "base_uri": "https://localhost:8080/"
        },
        "id": "jh1HAm67sYoI",
        "outputId": "23677b1e-a6b0-48d2-d486-fbb4794cad0f"
      },
      "execution_count": 23,
      "outputs": [
        {
          "output_type": "stream",
          "name": "stdout",
          "text": [
            "   match_number                  team1                team2  match_date  \\\n",
            "0       1304063    Chennai Super Kings  Sunrisers Hyderabad  2022-04-09   \n",
            "1        598000    Sunrisers Hyderabad        Pune Warriors  2013-04-05   \n",
            "2        829801       Delhi Daredevils  Chennai Super Kings  2015-05-12   \n",
            "3        392195        Kings XI Punjab     Rajasthan Royals  2009-04-26   \n",
            "4        734023  Kolkata Knight Riders  Chennai Super Kings  2014-05-20   \n",
            "\n",
            "             toss_winner toss_decision result eliminator  \\\n",
            "0    Sunrisers Hyderabad         field    Win        NaN   \n",
            "1          Pune Warriors         field    Win        NaN   \n",
            "2    Chennai Super Kings           bat    Win        NaN   \n",
            "3        Kings XI Punjab           bat    Win        NaN   \n",
            "4  Kolkata Knight Riders         field    Win        NaN   \n",
            "\n",
            "                  winner  player_of_match  \\\n",
            "0    Sunrisers Hyderabad  Abhishek Sharma   \n",
            "1    Sunrisers Hyderabad         A Mishra   \n",
            "2       Delhi Daredevils           Z Khan   \n",
            "3        Kings XI Punjab    KC Sangakkara   \n",
            "4  Kolkata Knight Riders       RV Uthappa   \n",
            "\n",
            "                                              venue       city  \\\n",
            "0                Dr DY Patil Sports Academy, Mumbai     Mumbai   \n",
            "1         Rajiv Gandhi International Stadium, Uppal  Hyderabad   \n",
            "2  Shaheed Veer Narayan Singh International Stadium     Raipur   \n",
            "3                                          Newlands  Cape Town   \n",
            "4                                      Eden Gardens    Kolkata   \n",
            "\n",
            "                                       team1_players  \\\n",
            "0  RV Uthappa, RD Gaikwad, MM Ali, AT Rayudu, S D...   \n",
            "1  PA Reddy, PA Patel, KC Sangakkara, CL White, N...   \n",
            "2  Q de Kock, SS Iyer, JP Duminy, Yuvraj Singh, J...   \n",
            "3  RS Bopara, K Goel, KC Sangakkara, Yuvraj Singh...   \n",
            "4  RV Uthappa, G Gambhir, MK Pandey, Shakib Al Ha...   \n",
            "\n",
            "                                       team2_players  \n",
            "0  Abhishek Sharma, KS Williamson, RA Tripathi, N...  \n",
            "1  RV Uthappa, MK Pandey, MN Samuels, Yuvraj Sing...  \n",
            "2  DR Smith, BB McCullum, SK Raina, F du Plessis,...  \n",
            "3  SA Asnodkar, GC Smith, RJ Quiney, YK Pathan, A...  \n",
            "4  DR Smith, BB McCullum, SK Raina, F du Plessis,...  \n"
          ]
        }
      ]
    },
    {
      "cell_type": "code",
      "source": [
        "print(type(file1))\n",
        "print(file1.columns)\n"
      ],
      "metadata": {
        "colab": {
          "base_uri": "https://localhost:8080/"
        },
        "id": "uGvfNE90slRd",
        "outputId": "c7db5286-6ff5-4af6-c775-280431724daa"
      },
      "execution_count": 25,
      "outputs": [
        {
          "output_type": "stream",
          "name": "stdout",
          "text": [
            "<class 'pandas.core.frame.DataFrame'>\n",
            "Index(['match_number', 'team1', 'team2', 'match_date', 'toss_winner',\n",
            "       'toss_decision', 'result', 'eliminator', 'winner', 'player_of_match',\n",
            "       'venue', 'city', 'team1_players', 'team2_players'],\n",
            "      dtype='object')\n"
          ]
        }
      ]
    },
    {
      "cell_type": "code",
      "source": [
        "# Toss decision impact on match outcome\n",
        "file1['TossImpact'] = file1['toss_winner'] == file1['winner']\n",
        "toss_impact = file1['TossImpact'].value_counts(normalize=True) * 100\n",
        "print(f\"Toss Impact:\\n{toss_impact}\")\n"
      ],
      "metadata": {
        "colab": {
          "base_uri": "https://localhost:8080/"
        },
        "id": "YhJzRN9DsrsZ",
        "outputId": "b0bcea25-da3b-4d47-f0bb-de734795eda9"
      },
      "execution_count": 26,
      "outputs": [
        {
          "output_type": "stream",
          "name": "stdout",
          "text": [
            "Toss Impact:\n",
            "TossImpact\n",
            "True     50.045662\n",
            "False    49.954338\n",
            "Name: proportion, dtype: float64\n"
          ]
        }
      ]
    },
    {
      "cell_type": "code",
      "source": [
        "# Group by venue and winning team\n",
        "venue_performance = file1.groupby(['venue', 'winner']).size().reset_index(name='Wins')\n",
        "venue_performance = venue_performance.sort_values(by='Wins', ascending=False)\n",
        "print(venue_performance.head())\n"
      ],
      "metadata": {
        "colab": {
          "base_uri": "https://localhost:8080/"
        },
        "id": "lMqBpjb9s4es",
        "outputId": "02c49db8-76e2-4b34-e5e4-c02d9a9946a3"
      },
      "execution_count": 27,
      "outputs": [
        {
          "output_type": "stream",
          "name": "stdout",
          "text": [
            "                               venue                       winner  Wins\n",
            "88                      Eden Gardens        Kolkata Knight Riders    45\n",
            "357                 Wankhede Stadium               Mumbai Indians    41\n",
            "169  MA Chidambaram Stadium, Chepauk          Chennai Super Kings    33\n",
            "297           Sawai Mansingh Stadium             Rajasthan Royals    32\n",
            "152            M Chinnaswamy Stadium  Royal Challengers Bangalore    28\n"
          ]
        }
      ]
    },
    {
      "cell_type": "markdown",
      "source": [
        "# Top-performing batters at specific venues\n",
        "venue_batting = file2.groupby(['BattingTeam', 'venue'])['BatsmanRun'].sum().reset_index()\n",
        "venue_batting = venue_batting.sort_values(by='BatsmanRun', ascending=False)\n",
        "print(venue_batting.head())\n"
      ],
      "metadata": {
        "id": "0rl8IdFXtAKT"
      }
    },
    {
      "cell_type": "code",
      "source": [
        "# Group by venue and winning team\n",
        "venue_performance = file1.groupby(['venue', 'winner']).size().reset_index(name='Wins')\n",
        "venue_performance = venue_performance.sort_values(by='Wins', ascending=False)\n",
        "print(venue_performance.head())\n"
      ],
      "metadata": {
        "colab": {
          "base_uri": "https://localhost:8080/"
        },
        "id": "UNNSIJirtftp",
        "outputId": "91d744da-6b4a-4032-bc24-3d5015e6c58d"
      },
      "execution_count": 34,
      "outputs": [
        {
          "output_type": "stream",
          "name": "stdout",
          "text": [
            "                               venue                       winner  Wins\n",
            "88                      Eden Gardens        Kolkata Knight Riders    45\n",
            "357                 Wankhede Stadium               Mumbai Indians    41\n",
            "169  MA Chidambaram Stadium, Chepauk          Chennai Super Kings    33\n",
            "297           Sawai Mansingh Stadium             Rajasthan Royals    32\n",
            "152            M Chinnaswamy Stadium  Royal Challengers Bangalore    28\n"
          ]
        }
      ]
    },
    {
      "cell_type": "code",
      "source": [
        "# Top-performing batters at specific venues\n",
        "venue_batting = file2.groupby(['BattingTeam', 'venue'])['BatsmanRun'].sum().reset_index()\n",
        "venue_batting = venue_batting.sort_values(by='BatsmanRun', ascending=False)\n",
        "print(venue_batting.head())\n"
      ],
      "metadata": {
        "colab": {
          "base_uri": "https://localhost:8080/",
          "height": 365
        },
        "id": "am4nmtVqtrIy",
        "outputId": "86fead5b-dfc8-4674-c116-2cd4d3be5468"
      },
      "execution_count": 35,
      "outputs": [
        {
          "output_type": "error",
          "ename": "KeyError",
          "evalue": "'venue'",
          "traceback": [
            "\u001b[0;31m---------------------------------------------------------------------------\u001b[0m",
            "\u001b[0;31mKeyError\u001b[0m                                  Traceback (most recent call last)",
            "\u001b[0;32m<ipython-input-35-061ea243a7ed>\u001b[0m in \u001b[0;36m<cell line: 2>\u001b[0;34m()\u001b[0m\n\u001b[1;32m      1\u001b[0m \u001b[0;31m# Top-performing batters at specific venues\u001b[0m\u001b[0;34m\u001b[0m\u001b[0;34m\u001b[0m\u001b[0m\n\u001b[0;32m----> 2\u001b[0;31m \u001b[0mvenue_batting\u001b[0m \u001b[0;34m=\u001b[0m \u001b[0mfile2\u001b[0m\u001b[0;34m.\u001b[0m\u001b[0mgroupby\u001b[0m\u001b[0;34m(\u001b[0m\u001b[0;34m[\u001b[0m\u001b[0;34m'BattingTeam'\u001b[0m\u001b[0;34m,\u001b[0m \u001b[0;34m'venue'\u001b[0m\u001b[0;34m]\u001b[0m\u001b[0;34m)\u001b[0m\u001b[0;34m[\u001b[0m\u001b[0;34m'BatsmanRun'\u001b[0m\u001b[0;34m]\u001b[0m\u001b[0;34m.\u001b[0m\u001b[0msum\u001b[0m\u001b[0;34m(\u001b[0m\u001b[0;34m)\u001b[0m\u001b[0;34m.\u001b[0m\u001b[0mreset_index\u001b[0m\u001b[0;34m(\u001b[0m\u001b[0;34m)\u001b[0m\u001b[0;34m\u001b[0m\u001b[0;34m\u001b[0m\u001b[0m\n\u001b[0m\u001b[1;32m      3\u001b[0m \u001b[0mvenue_batting\u001b[0m \u001b[0;34m=\u001b[0m \u001b[0mvenue_batting\u001b[0m\u001b[0;34m.\u001b[0m\u001b[0msort_values\u001b[0m\u001b[0;34m(\u001b[0m\u001b[0mby\u001b[0m\u001b[0;34m=\u001b[0m\u001b[0;34m'BatsmanRun'\u001b[0m\u001b[0;34m,\u001b[0m \u001b[0mascending\u001b[0m\u001b[0;34m=\u001b[0m\u001b[0;32mFalse\u001b[0m\u001b[0;34m)\u001b[0m\u001b[0;34m\u001b[0m\u001b[0;34m\u001b[0m\u001b[0m\n\u001b[1;32m      4\u001b[0m \u001b[0mprint\u001b[0m\u001b[0;34m(\u001b[0m\u001b[0mvenue_batting\u001b[0m\u001b[0;34m.\u001b[0m\u001b[0mhead\u001b[0m\u001b[0;34m(\u001b[0m\u001b[0;34m)\u001b[0m\u001b[0;34m)\u001b[0m\u001b[0;34m\u001b[0m\u001b[0;34m\u001b[0m\u001b[0m\n",
            "\u001b[0;32m/usr/local/lib/python3.10/dist-packages/pandas/core/frame.py\u001b[0m in \u001b[0;36mgroupby\u001b[0;34m(self, by, axis, level, as_index, sort, group_keys, observed, dropna)\u001b[0m\n\u001b[1;32m   9181\u001b[0m             \u001b[0;32mraise\u001b[0m \u001b[0mTypeError\u001b[0m\u001b[0;34m(\u001b[0m\u001b[0;34m\"You have to supply one of 'by' and 'level'\"\u001b[0m\u001b[0;34m)\u001b[0m\u001b[0;34m\u001b[0m\u001b[0;34m\u001b[0m\u001b[0m\n\u001b[1;32m   9182\u001b[0m \u001b[0;34m\u001b[0m\u001b[0m\n\u001b[0;32m-> 9183\u001b[0;31m         return DataFrameGroupBy(\n\u001b[0m\u001b[1;32m   9184\u001b[0m             \u001b[0mobj\u001b[0m\u001b[0;34m=\u001b[0m\u001b[0mself\u001b[0m\u001b[0;34m,\u001b[0m\u001b[0;34m\u001b[0m\u001b[0;34m\u001b[0m\u001b[0m\n\u001b[1;32m   9185\u001b[0m             \u001b[0mkeys\u001b[0m\u001b[0;34m=\u001b[0m\u001b[0mby\u001b[0m\u001b[0;34m,\u001b[0m\u001b[0;34m\u001b[0m\u001b[0;34m\u001b[0m\u001b[0m\n",
            "\u001b[0;32m/usr/local/lib/python3.10/dist-packages/pandas/core/groupby/groupby.py\u001b[0m in \u001b[0;36m__init__\u001b[0;34m(self, obj, keys, axis, level, grouper, exclusions, selection, as_index, sort, group_keys, observed, dropna)\u001b[0m\n\u001b[1;32m   1327\u001b[0m \u001b[0;34m\u001b[0m\u001b[0m\n\u001b[1;32m   1328\u001b[0m         \u001b[0;32mif\u001b[0m \u001b[0mgrouper\u001b[0m \u001b[0;32mis\u001b[0m \u001b[0;32mNone\u001b[0m\u001b[0;34m:\u001b[0m\u001b[0;34m\u001b[0m\u001b[0;34m\u001b[0m\u001b[0m\n\u001b[0;32m-> 1329\u001b[0;31m             grouper, exclusions, obj = get_grouper(\n\u001b[0m\u001b[1;32m   1330\u001b[0m                 \u001b[0mobj\u001b[0m\u001b[0;34m,\u001b[0m\u001b[0;34m\u001b[0m\u001b[0;34m\u001b[0m\u001b[0m\n\u001b[1;32m   1331\u001b[0m                 \u001b[0mkeys\u001b[0m\u001b[0;34m,\u001b[0m\u001b[0;34m\u001b[0m\u001b[0;34m\u001b[0m\u001b[0m\n",
            "\u001b[0;32m/usr/local/lib/python3.10/dist-packages/pandas/core/groupby/grouper.py\u001b[0m in \u001b[0;36mget_grouper\u001b[0;34m(obj, key, axis, level, sort, observed, validate, dropna)\u001b[0m\n\u001b[1;32m   1041\u001b[0m                 \u001b[0min_axis\u001b[0m\u001b[0;34m,\u001b[0m \u001b[0mlevel\u001b[0m\u001b[0;34m,\u001b[0m \u001b[0mgpr\u001b[0m \u001b[0;34m=\u001b[0m \u001b[0;32mFalse\u001b[0m\u001b[0;34m,\u001b[0m \u001b[0mgpr\u001b[0m\u001b[0;34m,\u001b[0m \u001b[0;32mNone\u001b[0m\u001b[0;34m\u001b[0m\u001b[0;34m\u001b[0m\u001b[0m\n\u001b[1;32m   1042\u001b[0m             \u001b[0;32melse\u001b[0m\u001b[0;34m:\u001b[0m\u001b[0;34m\u001b[0m\u001b[0;34m\u001b[0m\u001b[0m\n\u001b[0;32m-> 1043\u001b[0;31m                 \u001b[0;32mraise\u001b[0m \u001b[0mKeyError\u001b[0m\u001b[0;34m(\u001b[0m\u001b[0mgpr\u001b[0m\u001b[0;34m)\u001b[0m\u001b[0;34m\u001b[0m\u001b[0;34m\u001b[0m\u001b[0m\n\u001b[0m\u001b[1;32m   1044\u001b[0m         \u001b[0;32melif\u001b[0m \u001b[0misinstance\u001b[0m\u001b[0;34m(\u001b[0m\u001b[0mgpr\u001b[0m\u001b[0;34m,\u001b[0m \u001b[0mGrouper\u001b[0m\u001b[0;34m)\u001b[0m \u001b[0;32mand\u001b[0m \u001b[0mgpr\u001b[0m\u001b[0;34m.\u001b[0m\u001b[0mkey\u001b[0m \u001b[0;32mis\u001b[0m \u001b[0;32mnot\u001b[0m \u001b[0;32mNone\u001b[0m\u001b[0;34m:\u001b[0m\u001b[0;34m\u001b[0m\u001b[0;34m\u001b[0m\u001b[0m\n\u001b[1;32m   1045\u001b[0m             \u001b[0;31m# Add key to exclusions\u001b[0m\u001b[0;34m\u001b[0m\u001b[0;34m\u001b[0m\u001b[0m\n",
            "\u001b[0;31mKeyError\u001b[0m: 'venue'"
          ]
        }
      ]
    },
    {
      "cell_type": "code",
      "source": [
        "print(file2.columns)\n"
      ],
      "metadata": {
        "colab": {
          "base_uri": "https://localhost:8080/"
        },
        "id": "R2RyZCdmtyNy",
        "outputId": "92cb8c0e-e047-4dad-97ae-c7bab0571f79"
      },
      "execution_count": 36,
      "outputs": [
        {
          "output_type": "stream",
          "name": "stdout",
          "text": [
            "Index(['ID', 'Innings', 'Overs', 'BallNumber', 'Batter', 'Bowler',\n",
            "       'NonStriker', 'ExtraType', 'BatsmanRun', 'ExtrasRun', 'TotalRun',\n",
            "       'IsWicketDelivery', 'PlayerOut', 'Kind', 'FieldersInvolved',\n",
            "       'BattingTeam'],\n",
            "      dtype='object')\n"
          ]
        }
      ]
    },
    {
      "cell_type": "code",
      "source": [
        "# Ensure you have the 'match_number' or relevant common column in both files\n",
        "merged_data = pd.merge(file2, file1[['match_number', 'venue']],\n",
        "                       left_on='ID', right_on='match_number', how='left')\n",
        "\n",
        "# Confirm the merge\n",
        "print(merged_data.columns)\n"
      ],
      "metadata": {
        "colab": {
          "base_uri": "https://localhost:8080/"
        },
        "id": "r98htPabt4JP",
        "outputId": "58e5673c-9379-4104-bcef-a59f3113d816"
      },
      "execution_count": 37,
      "outputs": [
        {
          "output_type": "stream",
          "name": "stdout",
          "text": [
            "Index(['ID', 'Innings', 'Overs', 'BallNumber', 'Batter', 'Bowler',\n",
            "       'NonStriker', 'ExtraType', 'BatsmanRun', 'ExtrasRun', 'TotalRun',\n",
            "       'IsWicketDelivery', 'PlayerOut', 'Kind', 'FieldersInvolved',\n",
            "       'BattingTeam', 'match_number', 'venue'],\n",
            "      dtype='object')\n"
          ]
        }
      ]
    },
    {
      "cell_type": "code",
      "source": [
        "venue_batting = merged_data.groupby(['BattingTeam', 'venue'])['BatsmanRun'].sum().reset_index()\n",
        "venue_batting = venue_batting.sort_values(by='BatsmanRun', ascending=False)\n",
        "print(venue_batting.head())\n"
      ],
      "metadata": {
        "colab": {
          "base_uri": "https://localhost:8080/"
        },
        "id": "tmzv1NGJt7yn",
        "outputId": "27dc8534-d424-4f5a-aa82-1c8deb27f22a"
      },
      "execution_count": 38,
      "outputs": [
        {
          "output_type": "stream",
          "name": "stdout",
          "text": [
            "                     BattingTeam                            venue  BatsmanRun\n",
            "215        Kolkata Knight Riders                     Eden Gardens       10918\n",
            "312               Mumbai Indians                 Wankhede Stadium       10343\n",
            "426  Royal Challengers Bangalore            M Chinnaswamy Stadium        9201\n",
            "111             Delhi Daredevils                 Feroz Shah Kotla        8206\n",
            "24           Chennai Super Kings  MA Chidambaram Stadium, Chepauk        7342\n"
          ]
        }
      ]
    },
    {
      "cell_type": "code",
      "source": [
        "# Filter players based on their role\n",
        "all_rounders = file3[file3['playingRoles'].str.contains('Allrounder', na=False)]\n",
        "batter_performance = pd.merge(all_rounders, file2, left_on='Name', right_on='Batter', how='inner')\n",
        "\n",
        "# Summarize all-rounder contributions\n",
        "all_rounder_stats = batter_performance.groupby('Name')['BatsmanRun'].sum().reset_index()\n",
        "all_rounder_stats = all_rounder_stats.sort_values(by='BatsmanRun', ascending=False).head(10)\n",
        "print(all_rounder_stats)\n"
      ],
      "metadata": {
        "colab": {
          "base_uri": "https://localhost:8080/",
          "height": 216
        },
        "id": "HYDE82XtuDje",
        "outputId": "a3dbde81-73fd-4eef-dff5-e86d5064d5cf"
      },
      "execution_count": 39,
      "outputs": [
        {
          "output_type": "error",
          "ename": "TypeError",
          "evalue": "string indices must be integers",
          "traceback": [
            "\u001b[0;31m---------------------------------------------------------------------------\u001b[0m",
            "\u001b[0;31mTypeError\u001b[0m                                 Traceback (most recent call last)",
            "\u001b[0;32m<ipython-input-39-93e9638c41a4>\u001b[0m in \u001b[0;36m<cell line: 2>\u001b[0;34m()\u001b[0m\n\u001b[1;32m      1\u001b[0m \u001b[0;31m# Filter players based on their role\u001b[0m\u001b[0;34m\u001b[0m\u001b[0;34m\u001b[0m\u001b[0m\n\u001b[0;32m----> 2\u001b[0;31m \u001b[0mall_rounders\u001b[0m \u001b[0;34m=\u001b[0m \u001b[0mfile3\u001b[0m\u001b[0;34m[\u001b[0m\u001b[0mfile3\u001b[0m\u001b[0;34m[\u001b[0m\u001b[0;34m'playingRoles'\u001b[0m\u001b[0;34m]\u001b[0m\u001b[0;34m.\u001b[0m\u001b[0mstr\u001b[0m\u001b[0;34m.\u001b[0m\u001b[0mcontains\u001b[0m\u001b[0;34m(\u001b[0m\u001b[0;34m'Allrounder'\u001b[0m\u001b[0;34m,\u001b[0m \u001b[0mna\u001b[0m\u001b[0;34m=\u001b[0m\u001b[0;32mFalse\u001b[0m\u001b[0;34m)\u001b[0m\u001b[0;34m]\u001b[0m\u001b[0;34m\u001b[0m\u001b[0;34m\u001b[0m\u001b[0m\n\u001b[0m\u001b[1;32m      3\u001b[0m \u001b[0mbatter_performance\u001b[0m \u001b[0;34m=\u001b[0m \u001b[0mpd\u001b[0m\u001b[0;34m.\u001b[0m\u001b[0mmerge\u001b[0m\u001b[0;34m(\u001b[0m\u001b[0mall_rounders\u001b[0m\u001b[0;34m,\u001b[0m \u001b[0mfile2\u001b[0m\u001b[0;34m,\u001b[0m \u001b[0mleft_on\u001b[0m\u001b[0;34m=\u001b[0m\u001b[0;34m'Name'\u001b[0m\u001b[0;34m,\u001b[0m \u001b[0mright_on\u001b[0m\u001b[0;34m=\u001b[0m\u001b[0;34m'Batter'\u001b[0m\u001b[0;34m,\u001b[0m \u001b[0mhow\u001b[0m\u001b[0;34m=\u001b[0m\u001b[0;34m'inner'\u001b[0m\u001b[0;34m)\u001b[0m\u001b[0;34m\u001b[0m\u001b[0;34m\u001b[0m\u001b[0m\n\u001b[1;32m      4\u001b[0m \u001b[0;34m\u001b[0m\u001b[0m\n\u001b[1;32m      5\u001b[0m \u001b[0;31m# Summarize all-rounder contributions\u001b[0m\u001b[0;34m\u001b[0m\u001b[0;34m\u001b[0m\u001b[0m\n",
            "\u001b[0;31mTypeError\u001b[0m: string indices must be integers"
          ]
        }
      ]
    },
    {
      "cell_type": "code",
      "source": [
        "import pandas as pd\n",
        "\n",
        "file3 = pd.read_csv('/2024_players_details.csv')  # Replace 'file3.csv' with your actual file path\n",
        "print(file3.head())  # Check the first few rows to confirm\n"
      ],
      "metadata": {
        "colab": {
          "base_uri": "https://localhost:8080/"
        },
        "id": "BaHXIYFGuOWU",
        "outputId": "a2b07fcc-0b32-417d-90eb-00f4be8a6dcd"
      },
      "execution_count": 41,
      "outputs": [
        {
          "output_type": "stream",
          "name": "stdout",
          "text": [
            "       ID              Name          longName       battingName  \\\n",
            "0   95094        RD Gaikwad   Ruturaj Gaikwad        RD Gaikwad   \n",
            "1   46597            MM Ali         Moeen Ali            MM Ali   \n",
            "2  116328  Aravelly Avanish  Aravelly Avanish  Aravelly Avanish   \n",
            "3   62022         DL Chahar     Deepak Chahar         DL Chahar   \n",
            "4   80607      TU Deshpande  Tushar Deshpande      TU Deshpande   \n",
            "\n",
            "       fieldingName                                             imgUrl  \\\n",
            "0           Gaikwad  https://img1.hscicdn.com/image/upload/f_auto,t...   \n",
            "1               Ali  https://img1.hscicdn.com/image/upload/f_auto,t...   \n",
            "2  Aravelly Avanish  https://img1.hscicdn.com/image/upload/f_auto,t...   \n",
            "3            Chahar  https://img1.hscicdn.com/image/upload/f_auto,t...   \n",
            "4         Deshpande  https://img1.hscicdn.com/image/upload/f_auto,t...   \n",
            "\n",
            "         dob battingStyles longBattingStyles bowlingStyles  \\\n",
            "0  31/1/1997           rhb    right-hand bat            ob   \n",
            "1  18/6/1987           lhb     left-hand bat            ob   \n",
            "2   2/6/2005           lhb     left-hand bat            Na   \n",
            "3   7/8/1992           rhb    right-hand bat            rm   \n",
            "4  15/5/1995           lhb     left-hand bat            rm   \n",
            "\n",
            "    longBowlingStyles playingRoles  \\\n",
            "0  right-arm offbreak           ob   \n",
            "1  right-arm offbreak           ob   \n",
            "2                  Na          NaN   \n",
            "3    right-arm medium           rm   \n",
            "4    right-arm medium           rm   \n",
            "\n",
            "                                            espn_url  \n",
            "0  https://www.espncricinfo.com/cricketers/rutura...  \n",
            "1  https://www.espncricinfo.com/cricketers/moeen-...  \n",
            "2  https://www.espncricinfo.com/cricketers/aravel...  \n",
            "3  https://www.espncricinfo.com/cricketers/deepak...  \n",
            "4  https://www.espncricinfo.com/cricketers/tushar...  \n"
          ]
        }
      ]
    },
    {
      "cell_type": "code",
      "source": [
        "all_rounders = file3[file3['playingRoles'].str.contains('Allrounder', na=False)]\n",
        "batter_performance = pd.merge(all_rounders, file2, left_on='Name', right_on='Batter', how='inner')\n"
      ],
      "metadata": {
        "id": "Mc4YBt23ukjg"
      },
      "execution_count": 43,
      "outputs": []
    },
    {
      "cell_type": "code",
      "source": [
        "all_rounder_stats = batter_performance.groupby('Name')['BatsmanRun'].sum().reset_index()\n",
        "all_rounder_stats = all_rounder_stats.sort_values(by='BatsmanRun', ascending=False).head(10)\n",
        "print(all_rounder_stats)\n"
      ],
      "metadata": {
        "colab": {
          "base_uri": "https://localhost:8080/"
        },
        "id": "0Zs8lYs8uqg8",
        "outputId": "7a7faa44-b204-481e-e2ac-711ea02c7303"
      },
      "execution_count": 44,
      "outputs": [
        {
          "output_type": "stream",
          "name": "stdout",
          "text": [
            "Empty DataFrame\n",
            "Columns: [Name, BatsmanRun]\n",
            "Index: []\n"
          ]
        }
      ]
    },
    {
      "cell_type": "code",
      "source": [
        "import matplotlib.pyplot as plt\n",
        "import seaborn as sns\n",
        "\n",
        "# Plot top 10 players by runs\n",
        "plt.figure(figsize=(10, 6))\n",
        "sns.barplot(data=top_scorers, x='BatsmanRun', y='Batter', palette='magma')\n",
        "plt.title('Top 10 Run Scorers')\n",
        "plt.xlabel('Total Runs')\n",
        "plt.ylabel('Player')\n",
        "plt.show()\n"
      ],
      "metadata": {
        "colab": {
          "base_uri": "https://localhost:8080/",
          "height": 673
        },
        "id": "VKB3R5OOuw0e",
        "outputId": "dedca8c2-a3c6-4800-8385-4ab025985b86"
      },
      "execution_count": 45,
      "outputs": [
        {
          "output_type": "stream",
          "name": "stderr",
          "text": [
            "<ipython-input-45-37cce23372cd>:6: FutureWarning: \n",
            "\n",
            "Passing `palette` without assigning `hue` is deprecated and will be removed in v0.14.0. Assign the `y` variable to `hue` and set `legend=False` for the same effect.\n",
            "\n",
            "  sns.barplot(data=top_scorers, x='BatsmanRun', y='Batter', palette='magma')\n"
          ]
        },
        {
          "output_type": "display_data",
          "data": {
            "text/plain": [
              "<Figure size 1000x600 with 1 Axes>"
            ],
            "image/png": "[encoded data removed]"
          },
          "metadata": {}
        }
      ]
    },
    {
      "cell_type": "code",
      "source": [
        "# Plot team performance at venues\n",
        "plt.figure(figsize=(14, 8))\n",
        "venue_team = venue_performance.head(20)\n",
        "sns.barplot(data=venue_team, x='Wins', y='venue', hue='winner', dodge=False)\n",
        "plt.title('Team Performance Across Venues')\n",
        "plt.xlabel('Wins')\n",
        "plt.ylabel('Venue')\n",
        "plt.legend(title='Team')\n",
        "plt.show()\n"
      ],
      "metadata": {
        "colab": {
          "base_uri": "https://localhost:8080/",
          "height": 481
        },
        "id": "DKjouip4u3lQ",
        "outputId": "fba2f42d-6a1a-4c2c-b954-4b6e9e167be7"
      },
      "execution_count": 46,
      "outputs": [
        {
          "output_type": "display_data",
          "data": {
            "text/plain": [
              "<Figure size 1400x800 with 1 Axes>"
            ],
            "image/png": "[encoded data removed]"
          },
          "metadata": {}
        }
      ]
    }
  ]
}